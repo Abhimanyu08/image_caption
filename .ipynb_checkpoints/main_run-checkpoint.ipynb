{
 "cells": [
  {
   "cell_type": "code",
   "execution_count": 8,
   "metadata": {},
   "outputs": [],
   "source": [
    "from utils import *\n",
    "from data_block import *\n",
    "from transforms import *\n",
    "from transformers import GPT2Tokenizer\n",
    "from model import *\n",
    "from learner import *\n",
    "from callbacks import *\n",
    "from optimizers import *\n",
    "import torch\n",
    "import torchvision.models as models\n",
    "import json"
   ]
  },
  {
   "cell_type": "code",
   "execution_count": 41,
   "metadata": {},
   "outputs": [],
   "source": [
    "import torch.nn.functional as F"
   ]
  },
  {
   "cell_type": "code",
   "execution_count": 9,
   "metadata": {},
   "outputs": [],
   "source": [
    "def get_caption_data(path, ann_path, tfms,image_folders, train_caption_file, valid_caption_file):\n",
    "    il = ImageList.from_path(path, tfms = tfms, include = image_folders)\n",
    "    train_ann = json.load(open(os.path.join(path, ann_path, train_caption_file)))\n",
    "    valid_ann = json.load(open(os.path.join(path, ann_path, valid_caption_file)))\n",
    "    dic = dict([(i['image_id'], i['caption']) for i in train_ann['annotations']])\n",
    "    dic.update([(i['image_id'], i['caption']) for i in valid_ann['annotations']])\n",
    "    return il, dic"
   ]
  },
  {
   "cell_type": "code",
   "execution_count": 10,
   "metadata": {},
   "outputs": [],
   "source": [
    "il, cap_dict = get_caption_data(path = 'C:/Users/iamab/Downloads/datasets/coco',\n",
    "                               ann_path= 'annotations_trainval2014/annotations',\n",
    "                               tfms = [into_rgb, ResizeFixed(224), np_to_float],\n",
    "                               image_folders = ['train2014', 'val2014'],\n",
    "                               train_caption_file = 'captions_train2014.json',\n",
    "                               valid_caption_file = 'captions_val2014.json')"
   ]
  },
  {
   "cell_type": "code",
   "execution_count": 11,
   "metadata": {},
   "outputs": [],
   "source": [
    "def parent_splitter(o, name): return True if o.parent.name == name else False"
   ]
  },
  {
   "cell_type": "code",
   "execution_count": 12,
   "metadata": {},
   "outputs": [],
   "source": [
    "sl = SplitDataset.from_func(il, partial(parent_splitter, name = 'val2014'))"
   ]
  },
  {
   "cell_type": "code",
   "execution_count": 13,
   "metadata": {},
   "outputs": [
    {
     "data": {
      "text/plain": [
       "SplitDataset\n",
       "Train: ImageList (82783 items)\n",
       "[WindowsPath('C:/Users/iamab/Downloads/datasets/coco/train2014/COCO_train2014_000000000009.jpg'), WindowsPath('C:/Users/iamab/Downloads/datasets/coco/train2014/COCO_train2014_000000000025.jpg'), WindowsPath('C:/Users/iamab/Downloads/datasets/coco/train2014/COCO_train2014_000000000030.jpg'), WindowsPath('C:/Users/iamab/Downloads/datasets/coco/train2014/COCO_train2014_000000000034.jpg'), WindowsPath('C:/Users/iamab/Downloads/datasets/coco/train2014/COCO_train2014_000000000036.jpg'), WindowsPath('C:/Users/iamab/Downloads/datasets/coco/train2014/COCO_train2014_000000000049.jpg'), WindowsPath('C:/Users/iamab/Downloads/datasets/coco/train2014/COCO_train2014_000000000061.jpg'), WindowsPath('C:/Users/iamab/Downloads/datasets/coco/train2014/COCO_train2014_000000000064.jpg'), WindowsPath('C:/Users/iamab/Downloads/datasets/coco/train2014/COCO_train2014_000000000071.jpg'), WindowsPath('C:/Users/iamab/Downloads/datasets/coco/train2014/COCO_train2014_000000000072.jpg')...]\n",
       "Valid: ImageList (40504 items)\n",
       "[WindowsPath('C:/Users/iamab/Downloads/datasets/coco/val2014/COCO_val2014_000000000042.jpg'), WindowsPath('C:/Users/iamab/Downloads/datasets/coco/val2014/COCO_val2014_000000000073.jpg'), WindowsPath('C:/Users/iamab/Downloads/datasets/coco/val2014/COCO_val2014_000000000074.jpg'), WindowsPath('C:/Users/iamab/Downloads/datasets/coco/val2014/COCO_val2014_000000000133.jpg'), WindowsPath('C:/Users/iamab/Downloads/datasets/coco/val2014/COCO_val2014_000000000136.jpg'), WindowsPath('C:/Users/iamab/Downloads/datasets/coco/val2014/COCO_val2014_000000000139.jpg'), WindowsPath('C:/Users/iamab/Downloads/datasets/coco/val2014/COCO_val2014_000000000143.jpg'), WindowsPath('C:/Users/iamab/Downloads/datasets/coco/val2014/COCO_val2014_000000000164.jpg'), WindowsPath('C:/Users/iamab/Downloads/datasets/coco/val2014/COCO_val2014_000000000192.jpg'), WindowsPath('C:/Users/iamab/Downloads/datasets/coco/val2014/COCO_val2014_000000000196.jpg')...]"
      ]
     },
     "execution_count": 13,
     "metadata": {},
     "output_type": "execute_result"
    }
   ],
   "source": [
    "sl"
   ]
  },
  {
   "cell_type": "code",
   "execution_count": 14,
   "metadata": {},
   "outputs": [],
   "source": [
    "import re"
   ]
  },
  {
   "cell_type": "code",
   "execution_count": 15,
   "metadata": {},
   "outputs": [],
   "source": [
    "def get_captions(o,cap_dict):\n",
    "    im_id = int(re.findall(r'0*(\\d+).jpg', o.name)[0])\n",
    "    return cap_dict[im_id]"
   ]
  },
  {
   "cell_type": "code",
   "execution_count": 16,
   "metadata": {
    "scrolled": true
   },
   "outputs": [
    {
     "name": "stderr",
     "output_type": "stream",
     "text": [
      "Using pad_token, but it is not set yet.\n"
     ]
    }
   ],
   "source": [
    "ll = label_train_valid(sl, func = partial(get_captions, cap_dict = cap_dict),\n",
    "                       procy = Tokprocessor(GPT2Tokenizer.from_pretrained('gpt2')))"
   ]
  },
  {
   "cell_type": "code",
   "execution_count": 10,
   "metadata": {},
   "outputs": [],
   "source": [
    "def show_pic_and_caption(l, index):\n",
    "    tok = l.py.tokenizer\n",
    "    im = l.x[index]\n",
    "    label = tok.decode(l.y.items[index], skip_special_tokens = True)\n",
    "    print(label)\n",
    "    plt.imshow(im.permute(1,2,0))\n",
    "    plt.axis('off')"
   ]
  },
  {
   "cell_type": "code",
   "execution_count": 11,
   "metadata": {},
   "outputs": [],
   "source": [
    "sh = partial(show_pic_and_caption,ll.valid)"
   ]
  },
  {
   "cell_type": "code",
   "execution_count": 17,
   "metadata": {
    "scrolled": true
   },
   "outputs": [],
   "source": [
    "def pad_collate(samples, pad_idx,flip = False):\n",
    "    images = torch.stack([s[0] for s in samples])\n",
    "    if flip:\n",
    "        captions = [s[1].contiguous() for s in samples]\n",
    "        for s in captions:\n",
    "            idx = next(j for j,n in enumerate(s) if n == pad_idx)\n",
    "            cut = s[:idx].flip(0)\n",
    "            s[:idx] = cut\n",
    "    res = torch.stack([s[1] for s in samples])\n",
    "            \n",
    "    return (images, res.long()), torch.cat((res[:,1:], torch.zeros(res.size(0),1).int()+pad_idx), dim=1).long()\n",
    "\n",
    "def cap_databunchify(sd, train_bs = None,valid_bs = None,**kwargs):\n",
    "    return DataBunch(*get_cap_dls(sd, train_bs, valid_bs, collate_fn = pad_collate))\n",
    "\n",
    "SplitDataset.cap_databunch = cap_databunchify\n",
    "\n",
    "data = ll.cap_databunch(train_bs=16, num_workers = 2)"
   ]
  },
  {
   "cell_type": "code",
   "execution_count": 11,
   "metadata": {},
   "outputs": [],
   "source": [
    "# torch.save(data, 'C:/Users/iamab/Downloads/datasets/coco/data.pkl')\n",
    "# data = torch.load('C:/Users/iamab/Downloads/datasets/coco/data.pkl')"
   ]
  },
  {
   "cell_type": "code",
   "execution_count": 18,
   "metadata": {},
   "outputs": [],
   "source": [
    "visual_model = models.resnet50(pretrained= True, progress= True)"
   ]
  },
  {
   "cell_type": "code",
   "execution_count": 19,
   "metadata": {},
   "outputs": [],
   "source": [
    "cap_model = get_caption_model(data,num_visual_features=2048,\n",
    "                              visual_head=visual_model, N = 4, activation = 'gelu')"
   ]
  },
  {
   "cell_type": "code",
   "execution_count": 13,
   "metadata": {},
   "outputs": [],
   "source": [
    "lr_schedule = combine_scheds(create_phases(0.2), cos_annealer(0.001,0.2,0.01))"
   ]
  },
  {
   "cell_type": "code",
   "execution_count": 14,
   "metadata": {},
   "outputs": [],
   "source": [
    "optimizer = partial(StatefulOptimizer,\n",
    "                    steppers = [momentum_step, weight_decay,lookahead_step],\n",
    "                   stats = [AverageGrad(), Step(), LookAheadStat()],\n",
    "                   lr = 0.001, wd = 1e-04)"
   ]
  },
  {
   "cell_type": "code",
   "execution_count": 15,
   "metadata": {},
   "outputs": [],
   "source": [
    "class GradZeroCallback(Callback):\n",
    "    def begin_fit(self):\n",
    "        for p in self.model.visual_backbone.parameters():\n",
    "            p.requires_grad_(False)"
   ]
  },
  {
   "cell_type": "code",
   "execution_count": 16,
   "metadata": {},
   "outputs": [],
   "source": [
    "cbfs = [CudaCapCallback, partial(AvgStatsCallback, cap_accuracy, AvgStatsCap), \n",
    "        ProgressCallback, \n",
    "        normalise_callback(data, normalise_func= cap_normalise, use_imagenet_stats=True), \n",
    "        NewRecorderCallback, \n",
    "        GradZeroCallback, partial(NewParamSchedulerCallback, 'lr', lr_schedule),\n",
    "       WandbCallback]"
   ]
  },
  {
   "cell_type": "code",
   "execution_count": 17,
   "metadata": {
    "scrolled": true
   },
   "outputs": [
    {
     "name": "stderr",
     "output_type": "stream",
     "text": [
      "wandb: Currently logged in as: a_bhimanyu (use `wandb login --relogin` to force relogin)\n",
      "wandb: Tracking run with wandb version 0.10.1\n",
      "wandb: Run data is saved locally in C:/Users/iamab/Downloads/datasets/coco\\wandb\\run-20200920_132459-33bsea3c\n",
      "wandb: Syncing run mp_long_run\n"
     ]
    },
    {
     "data": {
      "text/html": [
       "\n",
       "                Logging results to <a href=\"https://wandb.com\" target=\"_blank\">Weights & Biases</a> <a href=\"https://docs.wandb.com/integrations/jupyter.html\" target=\"_blank\">(Documentation)</a>.<br/>\n",
       "                Project page: <a href=\"https://app.wandb.ai/a_bhimanyu/Caption-RTX2060\" target=\"_blank\">https://app.wandb.ai/a_bhimanyu/Caption-RTX2060</a><br/>\n",
       "                Run page: <a href=\"https://app.wandb.ai/a_bhimanyu/Caption-RTX2060/runs/33bsea3c\" target=\"_blank\">https://app.wandb.ai/a_bhimanyu/Caption-RTX2060/runs/33bsea3c</a><br/>\n",
       "            "
      ],
      "text/plain": [
       "<IPython.core.display.HTML object>"
      ]
     },
     "metadata": {},
     "output_type": "display_data"
    },
    {
     "name": "stdout",
     "output_type": "stream",
     "text": [
      "\n"
     ]
    }
   ],
   "source": [
    "wandb.init(name = 'mp_long_run', project = 'Caption-RTX2060',\n",
    "           entity = 'a_bhimanyu',dir = 'C:/Users/iamab/Downloads/datasets/coco');\n",
    "\n",
    "loss = FlatLoss(nn.CrossEntropyLoss(ignore_index = cap_model.pad_tok_id))\n",
    "\n",
    "\n",
    "\n",
    "learn = Learner(cap_model, data, loss, optimizer, cb_funcs= cbfs)\n",
    "\n"
   ]
  },
  {
   "cell_type": "code",
   "execution_count": 18,
   "metadata": {},
   "outputs": [
    {
     "data": {
      "text/html": [
       "\n",
       "    <div>\n",
       "        <style>\n",
       "            /* Turns off some styling */\n",
       "            progress {\n",
       "                /* gets rid of default border in Firefox and Opera. */\n",
       "                border: none;\n",
       "                /* Needs to be in here for Safari polyfill so background images work as expected. */\n",
       "                background-size: auto;\n",
       "            }\n",
       "            .progress-bar-interrupted, .progress-bar-interrupted::-webkit-progress-bar {\n",
       "                background: #F44336;\n",
       "            }\n",
       "        </style>\n",
       "      <progress value='0' class='' max='150' style='width:300px; height:20px; vertical-align: middle;'></progress>\n",
       "      \n",
       "    </div>\n",
       "    \n"
      ],
      "text/plain": [
       "<IPython.core.display.HTML object>"
      ]
     },
     "metadata": {},
     "output_type": "display_data"
    },
    {
     "data": {
      "text/html": [
       "<table border=\"1\" class=\"dataframe\">\n",
       "  <thead>\n",
       "    <tr style=\"text-align: left;\">\n",
       "      <th>epoch</th>\n",
       "      <th>train_loss</th>\n",
       "      <th>train_cap_accuracy</th>\n",
       "      <th>valid_loss</th>\n",
       "      <th>valid_cap_accuracy</th>\n",
       "      <th>time</th>\n",
       "    </tr>\n",
       "  </thead>\n",
       "  <tbody>\n",
       "    <tr>\n",
       "      <td>0</td>\n",
       "      <td>15.176218</td>\n",
       "      <td>0.058669</td>\n",
       "      <td>6.619026</td>\n",
       "      <td>0.072032</td>\n",
       "      <td>32:51</td>\n",
       "    </tr>\n",
       "    <tr>\n",
       "      <td>1</td>\n",
       "      <td>6.456558</td>\n",
       "      <td>0.074661</td>\n",
       "      <td>6.066645</td>\n",
       "      <td>0.081463</td>\n",
       "      <td>32:55</td>\n",
       "    </tr>\n",
       "    <tr>\n",
       "      <td>2</td>\n",
       "      <td>5.943769</td>\n",
       "      <td>0.082449</td>\n",
       "      <td>5.670551</td>\n",
       "      <td>0.087944</td>\n",
       "      <td>33:06</td>\n",
       "    </tr>\n",
       "    <tr>\n",
       "      <td>3</td>\n",
       "      <td>5.566332</td>\n",
       "      <td>0.087271</td>\n",
       "      <td>5.314022</td>\n",
       "      <td>0.092753</td>\n",
       "      <td>33:22</td>\n",
       "    </tr>\n",
       "    <tr>\n",
       "      <td>4</td>\n",
       "      <td>5.256564</td>\n",
       "      <td>0.091181</td>\n",
       "      <td>5.041536</td>\n",
       "      <td>0.096935</td>\n",
       "      <td>33:22</td>\n",
       "    </tr>\n",
       "    <tr>\n",
       "      <td>5</td>\n",
       "      <td>4.991422</td>\n",
       "      <td>0.094478</td>\n",
       "      <td>4.819775</td>\n",
       "      <td>0.098970</td>\n",
       "      <td>33:24</td>\n",
       "    </tr>\n",
       "    <tr>\n",
       "      <td>6</td>\n",
       "      <td>4.764974</td>\n",
       "      <td>0.097135</td>\n",
       "      <td>4.634293</td>\n",
       "      <td>0.101744</td>\n",
       "      <td>33:22</td>\n",
       "    </tr>\n",
       "    <tr>\n",
       "      <td>7</td>\n",
       "      <td>4.565861</td>\n",
       "      <td>0.099370</td>\n",
       "      <td>4.470395</td>\n",
       "      <td>0.103092</td>\n",
       "      <td>33:16</td>\n",
       "    </tr>\n",
       "    <tr>\n",
       "      <td>8</td>\n",
       "      <td>4.390331</td>\n",
       "      <td>0.101366</td>\n",
       "      <td>4.320959</td>\n",
       "      <td>0.103956</td>\n",
       "      <td>33:30</td>\n",
       "    </tr>\n",
       "    <tr>\n",
       "      <td>9</td>\n",
       "      <td>4.233982</td>\n",
       "      <td>0.102929</td>\n",
       "      <td>4.159247</td>\n",
       "      <td>0.105945</td>\n",
       "      <td>33:46</td>\n",
       "    </tr>\n",
       "    <tr>\n",
       "      <td>10</td>\n",
       "      <td>4.099915</td>\n",
       "      <td>0.104328</td>\n",
       "      <td>4.083936</td>\n",
       "      <td>0.106621</td>\n",
       "      <td>34:00</td>\n",
       "    </tr>\n",
       "    <tr>\n",
       "      <td>11</td>\n",
       "      <td>3.982650</td>\n",
       "      <td>0.105609</td>\n",
       "      <td>3.972246</td>\n",
       "      <td>0.107178</td>\n",
       "      <td>34:14</td>\n",
       "    </tr>\n",
       "    <tr>\n",
       "      <td>12</td>\n",
       "      <td>3.881455</td>\n",
       "      <td>0.106446</td>\n",
       "      <td>3.882071</td>\n",
       "      <td>0.106439</td>\n",
       "      <td>34:29</td>\n",
       "    </tr>\n",
       "    <tr>\n",
       "      <td>13</td>\n",
       "      <td>3.789192</td>\n",
       "      <td>0.107406</td>\n",
       "      <td>3.826234</td>\n",
       "      <td>0.108326</td>\n",
       "      <td>34:39</td>\n",
       "    </tr>\n",
       "    <tr>\n",
       "      <td>14</td>\n",
       "      <td>3.709222</td>\n",
       "      <td>0.108162</td>\n",
       "      <td>3.779445</td>\n",
       "      <td>0.108596</td>\n",
       "      <td>34:56</td>\n",
       "    </tr>\n",
       "    <tr>\n",
       "      <td>15</td>\n",
       "      <td>3.634676</td>\n",
       "      <td>0.108831</td>\n",
       "      <td>3.686195</td>\n",
       "      <td>0.110393</td>\n",
       "      <td>35:14</td>\n",
       "    </tr>\n",
       "    <tr>\n",
       "      <td>16</td>\n",
       "      <td>3.568467</td>\n",
       "      <td>0.109422</td>\n",
       "      <td>3.643730</td>\n",
       "      <td>0.109442</td>\n",
       "      <td>35:31</td>\n",
       "    </tr>\n",
       "    <tr>\n",
       "      <td>17</td>\n",
       "      <td>3.506797</td>\n",
       "      <td>0.109889</td>\n",
       "      <td>3.542537</td>\n",
       "      <td>0.112474</td>\n",
       "      <td>35:41</td>\n",
       "    </tr>\n",
       "    <tr>\n",
       "      <td>18</td>\n",
       "      <td>3.445299</td>\n",
       "      <td>0.110543</td>\n",
       "      <td>3.570534</td>\n",
       "      <td>0.109714</td>\n",
       "      <td>35:40</td>\n",
       "    </tr>\n",
       "    <tr>\n",
       "      <td>19</td>\n",
       "      <td>3.393062</td>\n",
       "      <td>0.111093</td>\n",
       "      <td>3.445833</td>\n",
       "      <td>0.112378</td>\n",
       "      <td>35:57</td>\n",
       "    </tr>\n",
       "    <tr>\n",
       "      <td>20</td>\n",
       "      <td>3.340745</td>\n",
       "      <td>0.111594</td>\n",
       "      <td>3.448723</td>\n",
       "      <td>0.112799</td>\n",
       "      <td>36:29</td>\n",
       "    </tr>\n",
       "    <tr>\n",
       "      <td>21</td>\n",
       "      <td>3.291725</td>\n",
       "      <td>0.112285</td>\n",
       "      <td>3.424615</td>\n",
       "      <td>0.112155</td>\n",
       "      <td>36:50</td>\n",
       "    </tr>\n",
       "    <tr>\n",
       "      <td>22</td>\n",
       "      <td>3.244475</td>\n",
       "      <td>0.112665</td>\n",
       "      <td>3.363825</td>\n",
       "      <td>0.111560</td>\n",
       "      <td>37:24</td>\n",
       "    </tr>\n",
       "    <tr>\n",
       "      <td>23</td>\n",
       "      <td>3.198795</td>\n",
       "      <td>0.113045</td>\n",
       "      <td>3.364502</td>\n",
       "      <td>0.112355</td>\n",
       "      <td>37:55</td>\n",
       "    </tr>\n",
       "    <tr>\n",
       "      <td>24</td>\n",
       "      <td>3.154816</td>\n",
       "      <td>0.113744</td>\n",
       "      <td>3.252530</td>\n",
       "      <td>0.114409</td>\n",
       "      <td>38:34</td>\n",
       "    </tr>\n",
       "    <tr>\n",
       "      <td>25</td>\n",
       "      <td>3.111872</td>\n",
       "      <td>0.114059</td>\n",
       "      <td>3.249872</td>\n",
       "      <td>0.114138</td>\n",
       "      <td>38:57</td>\n",
       "    </tr>\n",
       "    <tr>\n",
       "      <td>26</td>\n",
       "      <td>3.072169</td>\n",
       "      <td>0.114580</td>\n",
       "      <td>3.247498</td>\n",
       "      <td>0.111811</td>\n",
       "      <td>39:29</td>\n",
       "    </tr>\n",
       "    <tr>\n",
       "      <td>27</td>\n",
       "      <td>3.033576</td>\n",
       "      <td>0.115019</td>\n",
       "      <td>3.162640</td>\n",
       "      <td>0.115314</td>\n",
       "      <td>40:10</td>\n",
       "    </tr>\n",
       "    <tr>\n",
       "      <td>28</td>\n",
       "      <td>2.996425</td>\n",
       "      <td>0.115533</td>\n",
       "      <td>3.184208</td>\n",
       "      <td>0.114875</td>\n",
       "      <td>40:41</td>\n",
       "    </tr>\n",
       "    <tr>\n",
       "      <td>29</td>\n",
       "      <td>2.958139</td>\n",
       "      <td>0.116083</td>\n",
       "      <td>3.112044</td>\n",
       "      <td>0.116019</td>\n",
       "      <td>41:34</td>\n",
       "    </tr>\n",
       "    <tr>\n",
       "      <td>30</td>\n",
       "      <td>2.922761</td>\n",
       "      <td>0.116546</td>\n",
       "      <td>3.110288</td>\n",
       "      <td>0.115163</td>\n",
       "      <td>42:08</td>\n",
       "    </tr>\n",
       "    <tr>\n",
       "      <td>31</td>\n",
       "      <td>2.890582</td>\n",
       "      <td>0.116866</td>\n",
       "      <td>3.086868</td>\n",
       "      <td>0.115109</td>\n",
       "      <td>42:52</td>\n",
       "    </tr>\n",
       "    <tr>\n",
       "      <td>32</td>\n",
       "      <td>2.858213</td>\n",
       "      <td>0.117396</td>\n",
       "      <td>3.036734</td>\n",
       "      <td>0.116358</td>\n",
       "      <td>43:59</td>\n",
       "    </tr>\n",
       "    <tr>\n",
       "      <td>33</td>\n",
       "      <td>2.828026</td>\n",
       "      <td>0.117715</td>\n",
       "      <td>3.036909</td>\n",
       "      <td>0.116160</td>\n",
       "      <td>44:36</td>\n",
       "    </tr>\n",
       "    <tr>\n",
       "      <td>34</td>\n",
       "      <td>2.799233</td>\n",
       "      <td>0.118179</td>\n",
       "      <td>3.009787</td>\n",
       "      <td>0.116397</td>\n",
       "      <td>45:34</td>\n",
       "    </tr>\n",
       "    <tr>\n",
       "      <td>35</td>\n",
       "      <td>2.772781</td>\n",
       "      <td>0.118489</td>\n",
       "      <td>2.996263</td>\n",
       "      <td>0.116669</td>\n",
       "      <td>46:17</td>\n",
       "    </tr>\n",
       "    <tr>\n",
       "      <td>36</td>\n",
       "      <td>2.744910</td>\n",
       "      <td>0.119045</td>\n",
       "      <td>2.985366</td>\n",
       "      <td>0.115898</td>\n",
       "      <td>47:23</td>\n",
       "    </tr>\n",
       "    <tr>\n",
       "      <td>37</td>\n",
       "      <td>2.719599</td>\n",
       "      <td>0.119204</td>\n",
       "      <td>2.958899</td>\n",
       "      <td>0.117049</td>\n",
       "      <td>50:03</td>\n",
       "    </tr>\n",
       "    <tr>\n",
       "      <td>38</td>\n",
       "      <td>2.693036</td>\n",
       "      <td>0.119709</td>\n",
       "      <td>2.951208</td>\n",
       "      <td>0.117183</td>\n",
       "      <td>49:02</td>\n",
       "    </tr>\n",
       "    <tr>\n",
       "      <td>39</td>\n",
       "      <td>2.669165</td>\n",
       "      <td>0.120033</td>\n",
       "      <td>2.937788</td>\n",
       "      <td>0.117504</td>\n",
       "      <td>49:47</td>\n",
       "    </tr>\n",
       "    <tr>\n",
       "      <td>40</td>\n",
       "      <td>2.645658</td>\n",
       "      <td>0.120485</td>\n",
       "      <td>2.915098</td>\n",
       "      <td>0.118437</td>\n",
       "      <td>51:09</td>\n",
       "    </tr>\n",
       "    <tr>\n",
       "      <td>41</td>\n",
       "      <td>2.623823</td>\n",
       "      <td>0.120814</td>\n",
       "      <td>2.932307</td>\n",
       "      <td>0.117278</td>\n",
       "      <td>52:45</td>\n",
       "    </tr>\n",
       "    <tr>\n",
       "      <td>42</td>\n",
       "      <td>2.601922</td>\n",
       "      <td>0.121282</td>\n",
       "      <td>2.891672</td>\n",
       "      <td>0.118269</td>\n",
       "      <td>53:19</td>\n",
       "    </tr>\n",
       "    <tr>\n",
       "      <td>43</td>\n",
       "      <td>2.582361</td>\n",
       "      <td>0.121458</td>\n",
       "      <td>2.894064</td>\n",
       "      <td>0.117845</td>\n",
       "      <td>46:20</td>\n",
       "    </tr>\n",
       "    <tr>\n",
       "      <td>44</td>\n",
       "      <td>2.563778</td>\n",
       "      <td>0.121918</td>\n",
       "      <td>2.874121</td>\n",
       "      <td>0.118839</td>\n",
       "      <td>39:03</td>\n",
       "    </tr>\n",
       "    <tr>\n",
       "      <td>45</td>\n",
       "      <td>2.546438</td>\n",
       "      <td>0.122179</td>\n",
       "      <td>2.870708</td>\n",
       "      <td>0.117666</td>\n",
       "      <td>35:51</td>\n",
       "    </tr>\n",
       "    <tr>\n",
       "      <td>46</td>\n",
       "      <td>2.527925</td>\n",
       "      <td>0.122541</td>\n",
       "      <td>2.844736</td>\n",
       "      <td>0.118441</td>\n",
       "      <td>34:49</td>\n",
       "    </tr>\n",
       "    <tr>\n",
       "      <td>47</td>\n",
       "      <td>2.512135</td>\n",
       "      <td>0.122895</td>\n",
       "      <td>2.842825</td>\n",
       "      <td>0.119487</td>\n",
       "      <td>33:56</td>\n",
       "    </tr>\n",
       "    <tr>\n",
       "      <td>48</td>\n",
       "      <td>2.497813</td>\n",
       "      <td>0.123001</td>\n",
       "      <td>2.835304</td>\n",
       "      <td>0.118883</td>\n",
       "      <td>33:46</td>\n",
       "    </tr>\n",
       "    <tr>\n",
       "      <td>49</td>\n",
       "      <td>2.482545</td>\n",
       "      <td>0.123471</td>\n",
       "      <td>2.834265</td>\n",
       "      <td>0.118680</td>\n",
       "      <td>33:40</td>\n",
       "    </tr>\n",
       "    <tr>\n",
       "      <td>50</td>\n",
       "      <td>2.467931</td>\n",
       "      <td>0.123626</td>\n",
       "      <td>2.824114</td>\n",
       "      <td>0.119163</td>\n",
       "      <td>34:13</td>\n",
       "    </tr>\n",
       "    <tr>\n",
       "      <td>51</td>\n",
       "      <td>2.454075</td>\n",
       "      <td>0.123870</td>\n",
       "      <td>2.832108</td>\n",
       "      <td>0.118003</td>\n",
       "      <td>33:44</td>\n",
       "    </tr>\n",
       "    <tr>\n",
       "      <td>52</td>\n",
       "      <td>2.440583</td>\n",
       "      <td>0.124098</td>\n",
       "      <td>2.820582</td>\n",
       "      <td>0.119075</td>\n",
       "      <td>33:56</td>\n",
       "    </tr>\n",
       "    <tr>\n",
       "      <td>53</td>\n",
       "      <td>2.426598</td>\n",
       "      <td>0.124631</td>\n",
       "      <td>2.834631</td>\n",
       "      <td>0.119060</td>\n",
       "      <td>33:28</td>\n",
       "    </tr>\n",
       "    <tr>\n",
       "      <td>54</td>\n",
       "      <td>2.413427</td>\n",
       "      <td>0.124943</td>\n",
       "      <td>2.813743</td>\n",
       "      <td>0.119395</td>\n",
       "      <td>33:33</td>\n",
       "    </tr>\n",
       "    <tr>\n",
       "      <td>55</td>\n",
       "      <td>2.401242</td>\n",
       "      <td>0.125153</td>\n",
       "      <td>2.806775</td>\n",
       "      <td>0.119015</td>\n",
       "      <td>33:39</td>\n",
       "    </tr>\n",
       "    <tr>\n",
       "      <td>56</td>\n",
       "      <td>2.388891</td>\n",
       "      <td>0.125605</td>\n",
       "      <td>2.829151</td>\n",
       "      <td>0.117965</td>\n",
       "      <td>33:34</td>\n",
       "    </tr>\n",
       "    <tr>\n",
       "      <td>57</td>\n",
       "      <td>2.378128</td>\n",
       "      <td>0.125853</td>\n",
       "      <td>2.783367</td>\n",
       "      <td>0.120057</td>\n",
       "      <td>33:46</td>\n",
       "    </tr>\n",
       "    <tr>\n",
       "      <td>58</td>\n",
       "      <td>2.364741</td>\n",
       "      <td>0.126289</td>\n",
       "      <td>2.801093</td>\n",
       "      <td>0.118460</td>\n",
       "      <td>33:54</td>\n",
       "    </tr>\n",
       "    <tr>\n",
       "      <td>59</td>\n",
       "      <td>2.353522</td>\n",
       "      <td>0.126513</td>\n",
       "      <td>2.789051</td>\n",
       "      <td>0.120569</td>\n",
       "      <td>34:02</td>\n",
       "    </tr>\n",
       "    <tr>\n",
       "      <td>60</td>\n",
       "      <td>2.342445</td>\n",
       "      <td>0.126973</td>\n",
       "      <td>2.821868</td>\n",
       "      <td>0.118406</td>\n",
       "      <td>34:40</td>\n",
       "    </tr>\n",
       "    <tr>\n",
       "      <td>61</td>\n",
       "      <td>2.330178</td>\n",
       "      <td>0.127313</td>\n",
       "      <td>2.819064</td>\n",
       "      <td>0.118925</td>\n",
       "      <td>34:47</td>\n",
       "    </tr>\n",
       "    <tr>\n",
       "      <td>62</td>\n",
       "      <td>2.318527</td>\n",
       "      <td>0.127710</td>\n",
       "      <td>2.799820</td>\n",
       "      <td>0.120226</td>\n",
       "      <td>35:28</td>\n",
       "    </tr>\n",
       "    <tr>\n",
       "      <td>63</td>\n",
       "      <td>2.307872</td>\n",
       "      <td>0.127833</td>\n",
       "      <td>2.815123</td>\n",
       "      <td>0.119046</td>\n",
       "      <td>36:09</td>\n",
       "    </tr>\n",
       "    <tr>\n",
       "      <td>64</td>\n",
       "      <td>2.296759</td>\n",
       "      <td>0.128328</td>\n",
       "      <td>2.800161</td>\n",
       "      <td>0.119068</td>\n",
       "      <td>36:31</td>\n",
       "    </tr>\n",
       "    <tr>\n",
       "      <td>65</td>\n",
       "      <td>2.287088</td>\n",
       "      <td>0.128547</td>\n",
       "      <td>2.806187</td>\n",
       "      <td>0.119627</td>\n",
       "      <td>36:58</td>\n",
       "    </tr>\n",
       "    <tr>\n",
       "      <td>66</td>\n",
       "      <td>2.273480</td>\n",
       "      <td>0.129055</td>\n",
       "      <td>2.825882</td>\n",
       "      <td>0.119191</td>\n",
       "      <td>37:21</td>\n",
       "    </tr>\n",
       "    <tr>\n",
       "      <td>67</td>\n",
       "      <td>2.263674</td>\n",
       "      <td>0.129359</td>\n",
       "      <td>2.817362</td>\n",
       "      <td>0.119524</td>\n",
       "      <td>38:08</td>\n",
       "    </tr>\n",
       "    <tr>\n",
       "      <td>68</td>\n",
       "      <td>2.251549</td>\n",
       "      <td>0.129724</td>\n",
       "      <td>2.842412</td>\n",
       "      <td>0.116397</td>\n",
       "      <td>37:59</td>\n",
       "    </tr>\n",
       "    <tr>\n",
       "      <td>69</td>\n",
       "      <td>2.241237</td>\n",
       "      <td>0.130079</td>\n",
       "      <td>2.808932</td>\n",
       "      <td>0.118766</td>\n",
       "      <td>38:49</td>\n",
       "    </tr>\n",
       "    <tr>\n",
       "      <td>70</td>\n",
       "      <td>2.230947</td>\n",
       "      <td>0.130453</td>\n",
       "      <td>2.807884</td>\n",
       "      <td>0.119868</td>\n",
       "      <td>38:47</td>\n",
       "    </tr>\n",
       "    <tr>\n",
       "      <td>71</td>\n",
       "      <td>2.218942</td>\n",
       "      <td>0.130681</td>\n",
       "      <td>2.812892</td>\n",
       "      <td>0.118235</td>\n",
       "      <td>39:19</td>\n",
       "    </tr>\n",
       "    <tr>\n",
       "      <td>72</td>\n",
       "      <td>2.206362</td>\n",
       "      <td>0.131227</td>\n",
       "      <td>2.809051</td>\n",
       "      <td>0.119847</td>\n",
       "      <td>40:01</td>\n",
       "    </tr>\n",
       "    <tr>\n",
       "      <td>73</td>\n",
       "      <td>2.197446</td>\n",
       "      <td>0.131621</td>\n",
       "      <td>2.822518</td>\n",
       "      <td>0.119392</td>\n",
       "      <td>40:45</td>\n",
       "    </tr>\n",
       "    <tr>\n",
       "      <td>74</td>\n",
       "      <td>2.183973</td>\n",
       "      <td>0.132123</td>\n",
       "      <td>2.808084</td>\n",
       "      <td>0.119454</td>\n",
       "      <td>42:17</td>\n",
       "    </tr>\n",
       "    <tr>\n",
       "      <td>75</td>\n",
       "      <td>2.172687</td>\n",
       "      <td>0.132502</td>\n",
       "      <td>2.818666</td>\n",
       "      <td>0.119612</td>\n",
       "      <td>42:03</td>\n",
       "    </tr>\n",
       "    <tr>\n",
       "      <td>76</td>\n",
       "      <td>2.160996</td>\n",
       "      <td>0.132874</td>\n",
       "      <td>2.833054</td>\n",
       "      <td>0.119324</td>\n",
       "      <td>42:33</td>\n",
       "    </tr>\n",
       "    <tr>\n",
       "      <td>77</td>\n",
       "      <td>2.149715</td>\n",
       "      <td>0.133199</td>\n",
       "      <td>2.827221</td>\n",
       "      <td>0.119025</td>\n",
       "      <td>43:03</td>\n",
       "    </tr>\n",
       "  </tbody>\n",
       "</table>"
      ],
      "text/plain": [
       "<IPython.core.display.HTML object>"
      ]
     },
     "metadata": {},
     "output_type": "display_data"
    },
    {
     "name": "stdout",
     "output_type": "stream",
     "text": [
      "Better model found at epoch 0 with valid_loss value: 6.811107635498047.\n",
      "Saving model state at <_io.BufferedWriter name='C:\\\\Users\\\\iamab\\\\Downloads\\\\datasets\\\\coco\\\\wandb\\\\run-20200920_132459-33bsea3c\\\\files\\\\bestmodel.pth'>\n",
      "Better model found at epoch 1 with valid_loss value: 5.858463287353516.\n",
      "Saving model state at <_io.BufferedWriter name='C:\\\\Users\\\\iamab\\\\Downloads\\\\datasets\\\\coco\\\\wandb\\\\run-20200920_132459-33bsea3c\\\\files\\\\bestmodel.pth'>\n",
      "Better model found at epoch 2 with valid_loss value: 5.63759708404541.\n",
      "Saving model state at <_io.BufferedWriter name='C:\\\\Users\\\\iamab\\\\Downloads\\\\datasets\\\\coco\\\\wandb\\\\run-20200920_132459-33bsea3c\\\\files\\\\bestmodel.pth'>\n",
      "Better model found at epoch 3 with valid_loss value: 5.175690174102783.\n",
      "Saving model state at <_io.BufferedWriter name='C:\\\\Users\\\\iamab\\\\Downloads\\\\datasets\\\\coco\\\\wandb\\\\run-20200920_132459-33bsea3c\\\\files\\\\bestmodel.pth'>\n",
      "Better model found at epoch 4 with valid_loss value: 5.0698370933532715.\n",
      "Saving model state at <_io.BufferedWriter name='C:\\\\Users\\\\iamab\\\\Downloads\\\\datasets\\\\coco\\\\wandb\\\\run-20200920_132459-33bsea3c\\\\files\\\\bestmodel.pth'>\n",
      "Better model found at epoch 5 with valid_loss value: 4.668809413909912.\n",
      "Saving model state at <_io.BufferedWriter name='C:\\\\Users\\\\iamab\\\\Downloads\\\\datasets\\\\coco\\\\wandb\\\\run-20200920_132459-33bsea3c\\\\files\\\\bestmodel.pth'>\n",
      "Better model found at epoch 7 with valid_loss value: 3.5765368938446045.\n",
      "Saving model state at <_io.BufferedWriter name='C:\\\\Users\\\\iamab\\\\Downloads\\\\datasets\\\\coco\\\\wandb\\\\run-20200920_132459-33bsea3c\\\\files\\\\bestmodel.pth'>\n",
      "Better model found at epoch 8 with valid_loss value: 3.386881113052368.\n",
      "Saving model state at <_io.BufferedWriter name='C:\\\\Users\\\\iamab\\\\Downloads\\\\datasets\\\\coco\\\\wandb\\\\run-20200920_132459-33bsea3c\\\\files\\\\bestmodel.pth'>\n",
      "Better model found at epoch 13 with valid_loss value: 3.0653114318847656.\n",
      "Saving model state at <_io.BufferedWriter name='C:\\\\Users\\\\iamab\\\\Downloads\\\\datasets\\\\coco\\\\wandb\\\\run-20200920_132459-33bsea3c\\\\files\\\\bestmodel.pth'>\n",
      "Better model found at epoch 14 with valid_loss value: 2.599263906478882.\n",
      "Saving model state at <_io.BufferedWriter name='C:\\\\Users\\\\iamab\\\\Downloads\\\\datasets\\\\coco\\\\wandb\\\\run-20200920_132459-33bsea3c\\\\files\\\\bestmodel.pth'>\n",
      "Better model found at epoch 25 with valid_loss value: 2.5811514854431152.\n",
      "Saving model state at <_io.BufferedWriter name='C:\\\\Users\\\\iamab\\\\Downloads\\\\datasets\\\\coco\\\\wandb\\\\run-20200920_132459-33bsea3c\\\\files\\\\bestmodel.pth'>\n",
      "Better model found at epoch 34 with valid_loss value: 2.5476224422454834.\n",
      "Saving model state at <_io.BufferedWriter name='C:\\\\Users\\\\iamab\\\\Downloads\\\\datasets\\\\coco\\\\wandb\\\\run-20200920_132459-33bsea3c\\\\files\\\\bestmodel.pth'>\n",
      "Better model found at epoch 36 with valid_loss value: 2.4810073375701904.\n",
      "Saving model state at <_io.BufferedWriter name='C:\\\\Users\\\\iamab\\\\Downloads\\\\datasets\\\\coco\\\\wandb\\\\run-20200920_132459-33bsea3c\\\\files\\\\bestmodel.pth'>\n",
      "Better model found at epoch 46 with valid_loss value: 2.2729477882385254.\n",
      "Saving model state at <_io.BufferedWriter name='C:\\\\Users\\\\iamab\\\\Downloads\\\\datasets\\\\coco\\\\wandb\\\\run-20200920_132459-33bsea3c\\\\files\\\\bestmodel.pth'>\n",
      "Better model found at epoch 51 with valid_loss value: 2.1437766551971436.\n",
      "Saving model state at <_io.BufferedWriter name='C:\\\\Users\\\\iamab\\\\Downloads\\\\datasets\\\\coco\\\\wandb\\\\run-20200920_132459-33bsea3c\\\\files\\\\bestmodel.pth'>\n",
      "Better model found at epoch 54 with valid_loss value: 1.7994784116744995.\n",
      "Saving model state at <_io.BufferedWriter name='C:\\\\Users\\\\iamab\\\\Downloads\\\\datasets\\\\coco\\\\wandb\\\\run-20200920_132459-33bsea3c\\\\files\\\\bestmodel.pth'>\n",
      "Loading model state from <_io.BufferedReader name='C:\\\\Users\\\\iamab\\\\Downloads\\\\datasets\\\\coco\\\\wandb\\\\run-20200920_132459-33bsea3c\\\\files\\\\bestmodel.pth'>\n",
      "Loaded best saved model from C:\\Users\\iamab\\Downloads\\datasets\\coco\\wandb\\run-20200920_132459-33bsea3c\\files\\bestmodel.pth\n"
     ]
    },
    {
     "ename": "KeyboardInterrupt",
     "evalue": "",
     "output_type": "error",
     "traceback": [
      "\u001b[1;31m---------------------------------------------------------------------------\u001b[0m",
      "\u001b[1;31mKeyboardInterrupt\u001b[0m                         Traceback (most recent call last)",
      "\u001b[1;32m<ipython-input-18-9680a94a0a90>\u001b[0m in \u001b[0;36m<module>\u001b[1;34m\u001b[0m\n\u001b[1;32m----> 1\u001b[1;33m \u001b[0mlearn\u001b[0m\u001b[1;33m.\u001b[0m\u001b[0mfit\u001b[0m\u001b[1;33m(\u001b[0m\u001b[1;36m150\u001b[0m\u001b[1;33m)\u001b[0m\u001b[1;33m\u001b[0m\u001b[1;33m\u001b[0m\u001b[0m\n\u001b[0m",
      "\u001b[1;32m~\\OneDrive\\Documents\\project\\image_caption\\learner.py\u001b[0m in \u001b[0;36mfit\u001b[1;34m(self, epochs, cbs, reset_opt)\u001b[0m\n\u001b[0;32m     72\u001b[0m             \u001b[0mself\u001b[0m\u001b[1;33m.\u001b[0m\u001b[0mdo_begin_fit\u001b[0m\u001b[1;33m(\u001b[0m\u001b[0mepochs\u001b[0m\u001b[1;33m)\u001b[0m\u001b[1;33m\u001b[0m\u001b[1;33m\u001b[0m\u001b[0m\n\u001b[0;32m     73\u001b[0m             \u001b[1;32mfor\u001b[0m \u001b[0mepoch\u001b[0m \u001b[1;32min\u001b[0m \u001b[0mrange\u001b[0m\u001b[1;33m(\u001b[0m\u001b[0mepochs\u001b[0m\u001b[1;33m)\u001b[0m\u001b[1;33m:\u001b[0m\u001b[1;33m\u001b[0m\u001b[1;33m\u001b[0m\u001b[0m\n\u001b[1;32m---> 74\u001b[1;33m                 \u001b[1;32mif\u001b[0m \u001b[1;32mnot\u001b[0m \u001b[0mself\u001b[0m\u001b[1;33m.\u001b[0m\u001b[0mdo_begin_epoch\u001b[0m\u001b[1;33m(\u001b[0m\u001b[0mepoch\u001b[0m\u001b[1;33m)\u001b[0m\u001b[1;33m:\u001b[0m \u001b[0mself\u001b[0m\u001b[1;33m.\u001b[0m\u001b[0mall_batches\u001b[0m\u001b[1;33m(\u001b[0m\u001b[1;33m)\u001b[0m\u001b[1;33m\u001b[0m\u001b[1;33m\u001b[0m\u001b[0m\n\u001b[0m\u001b[0;32m     75\u001b[0m \u001b[1;33m\u001b[0m\u001b[0m\n\u001b[0;32m     76\u001b[0m                 \u001b[1;32mwith\u001b[0m \u001b[0mtorch\u001b[0m\u001b[1;33m.\u001b[0m\u001b[0mno_grad\u001b[0m\u001b[1;33m(\u001b[0m\u001b[1;33m)\u001b[0m\u001b[1;33m:\u001b[0m\u001b[1;33m\u001b[0m\u001b[1;33m\u001b[0m\u001b[0m\n",
      "\u001b[1;32m~\\OneDrive\\Documents\\project\\image_caption\\learner.py\u001b[0m in \u001b[0;36mall_batches\u001b[1;34m(self)\u001b[0m\n\u001b[0;32m     52\u001b[0m         \u001b[0mself\u001b[0m\u001b[1;33m.\u001b[0m\u001b[0miters\u001b[0m \u001b[1;33m=\u001b[0m \u001b[0mlen\u001b[0m\u001b[1;33m(\u001b[0m\u001b[0mself\u001b[0m\u001b[1;33m.\u001b[0m\u001b[0mdl\u001b[0m\u001b[1;33m)\u001b[0m\u001b[1;33m\u001b[0m\u001b[1;33m\u001b[0m\u001b[0m\n\u001b[0;32m     53\u001b[0m         \u001b[1;32mtry\u001b[0m\u001b[1;33m:\u001b[0m\u001b[1;33m\u001b[0m\u001b[1;33m\u001b[0m\u001b[0m\n\u001b[1;32m---> 54\u001b[1;33m             \u001b[1;32mfor\u001b[0m \u001b[0mi\u001b[0m\u001b[1;33m,\u001b[0m\u001b[1;33m(\u001b[0m\u001b[0mxb\u001b[0m\u001b[1;33m,\u001b[0m\u001b[0myb\u001b[0m\u001b[1;33m)\u001b[0m \u001b[1;32min\u001b[0m \u001b[0menumerate\u001b[0m\u001b[1;33m(\u001b[0m\u001b[0mself\u001b[0m\u001b[1;33m.\u001b[0m\u001b[0mdl\u001b[0m\u001b[1;33m)\u001b[0m\u001b[1;33m:\u001b[0m \u001b[0mself\u001b[0m\u001b[1;33m.\u001b[0m\u001b[0mone_batch\u001b[0m\u001b[1;33m(\u001b[0m\u001b[0mi\u001b[0m\u001b[1;33m,\u001b[0m \u001b[0mxb\u001b[0m\u001b[1;33m,\u001b[0m \u001b[0myb\u001b[0m\u001b[1;33m)\u001b[0m\u001b[1;33m\u001b[0m\u001b[1;33m\u001b[0m\u001b[0m\n\u001b[0m\u001b[0;32m     55\u001b[0m         \u001b[1;32mexcept\u001b[0m \u001b[0mCancelEpochException\u001b[0m\u001b[1;33m:\u001b[0m \u001b[0mself\u001b[0m\u001b[1;33m(\u001b[0m\u001b[1;34m'after_cancel_epoch'\u001b[0m\u001b[1;33m)\u001b[0m\u001b[1;33m\u001b[0m\u001b[1;33m\u001b[0m\u001b[0m\n\u001b[0;32m     56\u001b[0m \u001b[1;33m\u001b[0m\u001b[0m\n",
      "\u001b[1;32m~\\anaconda3\\lib\\site-packages\\torch\\utils\\data\\dataloader.py\u001b[0m in \u001b[0;36m__next__\u001b[1;34m(self)\u001b[0m\n\u001b[0;32m    361\u001b[0m \u001b[1;33m\u001b[0m\u001b[0m\n\u001b[0;32m    362\u001b[0m     \u001b[1;32mdef\u001b[0m \u001b[0m__next__\u001b[0m\u001b[1;33m(\u001b[0m\u001b[0mself\u001b[0m\u001b[1;33m)\u001b[0m\u001b[1;33m:\u001b[0m\u001b[1;33m\u001b[0m\u001b[1;33m\u001b[0m\u001b[0m\n\u001b[1;32m--> 363\u001b[1;33m         \u001b[0mdata\u001b[0m \u001b[1;33m=\u001b[0m \u001b[0mself\u001b[0m\u001b[1;33m.\u001b[0m\u001b[0m_next_data\u001b[0m\u001b[1;33m(\u001b[0m\u001b[1;33m)\u001b[0m\u001b[1;33m\u001b[0m\u001b[1;33m\u001b[0m\u001b[0m\n\u001b[0m\u001b[0;32m    364\u001b[0m         \u001b[0mself\u001b[0m\u001b[1;33m.\u001b[0m\u001b[0m_num_yielded\u001b[0m \u001b[1;33m+=\u001b[0m \u001b[1;36m1\u001b[0m\u001b[1;33m\u001b[0m\u001b[1;33m\u001b[0m\u001b[0m\n\u001b[0;32m    365\u001b[0m         \u001b[1;32mif\u001b[0m \u001b[0mself\u001b[0m\u001b[1;33m.\u001b[0m\u001b[0m_dataset_kind\u001b[0m \u001b[1;33m==\u001b[0m \u001b[0m_DatasetKind\u001b[0m\u001b[1;33m.\u001b[0m\u001b[0mIterable\u001b[0m \u001b[1;32mand\u001b[0m\u001b[0;31m \u001b[0m\u001b[0;31m\\\u001b[0m\u001b[1;33m\u001b[0m\u001b[1;33m\u001b[0m\u001b[0m\n",
      "\u001b[1;32m~\\anaconda3\\lib\\site-packages\\torch\\utils\\data\\dataloader.py\u001b[0m in \u001b[0;36m_next_data\u001b[1;34m(self)\u001b[0m\n\u001b[0;32m    401\u001b[0m     \u001b[1;32mdef\u001b[0m \u001b[0m_next_data\u001b[0m\u001b[1;33m(\u001b[0m\u001b[0mself\u001b[0m\u001b[1;33m)\u001b[0m\u001b[1;33m:\u001b[0m\u001b[1;33m\u001b[0m\u001b[1;33m\u001b[0m\u001b[0m\n\u001b[0;32m    402\u001b[0m         \u001b[0mindex\u001b[0m \u001b[1;33m=\u001b[0m \u001b[0mself\u001b[0m\u001b[1;33m.\u001b[0m\u001b[0m_next_index\u001b[0m\u001b[1;33m(\u001b[0m\u001b[1;33m)\u001b[0m  \u001b[1;31m# may raise StopIteration\u001b[0m\u001b[1;33m\u001b[0m\u001b[1;33m\u001b[0m\u001b[0m\n\u001b[1;32m--> 403\u001b[1;33m         \u001b[0mdata\u001b[0m \u001b[1;33m=\u001b[0m \u001b[0mself\u001b[0m\u001b[1;33m.\u001b[0m\u001b[0m_dataset_fetcher\u001b[0m\u001b[1;33m.\u001b[0m\u001b[0mfetch\u001b[0m\u001b[1;33m(\u001b[0m\u001b[0mindex\u001b[0m\u001b[1;33m)\u001b[0m  \u001b[1;31m# may raise StopIteration\u001b[0m\u001b[1;33m\u001b[0m\u001b[1;33m\u001b[0m\u001b[0m\n\u001b[0m\u001b[0;32m    404\u001b[0m         \u001b[1;32mif\u001b[0m \u001b[0mself\u001b[0m\u001b[1;33m.\u001b[0m\u001b[0m_pin_memory\u001b[0m\u001b[1;33m:\u001b[0m\u001b[1;33m\u001b[0m\u001b[1;33m\u001b[0m\u001b[0m\n\u001b[0;32m    405\u001b[0m             \u001b[0mdata\u001b[0m \u001b[1;33m=\u001b[0m \u001b[0m_utils\u001b[0m\u001b[1;33m.\u001b[0m\u001b[0mpin_memory\u001b[0m\u001b[1;33m.\u001b[0m\u001b[0mpin_memory\u001b[0m\u001b[1;33m(\u001b[0m\u001b[0mdata\u001b[0m\u001b[1;33m)\u001b[0m\u001b[1;33m\u001b[0m\u001b[1;33m\u001b[0m\u001b[0m\n",
      "\u001b[1;32m~\\anaconda3\\lib\\site-packages\\torch\\utils\\data\\_utils\\fetch.py\u001b[0m in \u001b[0;36mfetch\u001b[1;34m(self, possibly_batched_index)\u001b[0m\n\u001b[0;32m     42\u001b[0m     \u001b[1;32mdef\u001b[0m \u001b[0mfetch\u001b[0m\u001b[1;33m(\u001b[0m\u001b[0mself\u001b[0m\u001b[1;33m,\u001b[0m \u001b[0mpossibly_batched_index\u001b[0m\u001b[1;33m)\u001b[0m\u001b[1;33m:\u001b[0m\u001b[1;33m\u001b[0m\u001b[1;33m\u001b[0m\u001b[0m\n\u001b[0;32m     43\u001b[0m         \u001b[1;32mif\u001b[0m \u001b[0mself\u001b[0m\u001b[1;33m.\u001b[0m\u001b[0mauto_collation\u001b[0m\u001b[1;33m:\u001b[0m\u001b[1;33m\u001b[0m\u001b[1;33m\u001b[0m\u001b[0m\n\u001b[1;32m---> 44\u001b[1;33m             \u001b[0mdata\u001b[0m \u001b[1;33m=\u001b[0m \u001b[1;33m[\u001b[0m\u001b[0mself\u001b[0m\u001b[1;33m.\u001b[0m\u001b[0mdataset\u001b[0m\u001b[1;33m[\u001b[0m\u001b[0midx\u001b[0m\u001b[1;33m]\u001b[0m \u001b[1;32mfor\u001b[0m \u001b[0midx\u001b[0m \u001b[1;32min\u001b[0m \u001b[0mpossibly_batched_index\u001b[0m\u001b[1;33m]\u001b[0m\u001b[1;33m\u001b[0m\u001b[1;33m\u001b[0m\u001b[0m\n\u001b[0m\u001b[0;32m     45\u001b[0m         \u001b[1;32melse\u001b[0m\u001b[1;33m:\u001b[0m\u001b[1;33m\u001b[0m\u001b[1;33m\u001b[0m\u001b[0m\n\u001b[0;32m     46\u001b[0m             \u001b[0mdata\u001b[0m \u001b[1;33m=\u001b[0m \u001b[0mself\u001b[0m\u001b[1;33m.\u001b[0m\u001b[0mdataset\u001b[0m\u001b[1;33m[\u001b[0m\u001b[0mpossibly_batched_index\u001b[0m\u001b[1;33m]\u001b[0m\u001b[1;33m\u001b[0m\u001b[1;33m\u001b[0m\u001b[0m\n",
      "\u001b[1;32m~\\anaconda3\\lib\\site-packages\\torch\\utils\\data\\_utils\\fetch.py\u001b[0m in \u001b[0;36m<listcomp>\u001b[1;34m(.0)\u001b[0m\n\u001b[0;32m     42\u001b[0m     \u001b[1;32mdef\u001b[0m \u001b[0mfetch\u001b[0m\u001b[1;33m(\u001b[0m\u001b[0mself\u001b[0m\u001b[1;33m,\u001b[0m \u001b[0mpossibly_batched_index\u001b[0m\u001b[1;33m)\u001b[0m\u001b[1;33m:\u001b[0m\u001b[1;33m\u001b[0m\u001b[1;33m\u001b[0m\u001b[0m\n\u001b[0;32m     43\u001b[0m         \u001b[1;32mif\u001b[0m \u001b[0mself\u001b[0m\u001b[1;33m.\u001b[0m\u001b[0mauto_collation\u001b[0m\u001b[1;33m:\u001b[0m\u001b[1;33m\u001b[0m\u001b[1;33m\u001b[0m\u001b[0m\n\u001b[1;32m---> 44\u001b[1;33m             \u001b[0mdata\u001b[0m \u001b[1;33m=\u001b[0m \u001b[1;33m[\u001b[0m\u001b[0mself\u001b[0m\u001b[1;33m.\u001b[0m\u001b[0mdataset\u001b[0m\u001b[1;33m[\u001b[0m\u001b[0midx\u001b[0m\u001b[1;33m]\u001b[0m \u001b[1;32mfor\u001b[0m \u001b[0midx\u001b[0m \u001b[1;32min\u001b[0m \u001b[0mpossibly_batched_index\u001b[0m\u001b[1;33m]\u001b[0m\u001b[1;33m\u001b[0m\u001b[1;33m\u001b[0m\u001b[0m\n\u001b[0m\u001b[0;32m     45\u001b[0m         \u001b[1;32melse\u001b[0m\u001b[1;33m:\u001b[0m\u001b[1;33m\u001b[0m\u001b[1;33m\u001b[0m\u001b[0m\n\u001b[0;32m     46\u001b[0m             \u001b[0mdata\u001b[0m \u001b[1;33m=\u001b[0m \u001b[0mself\u001b[0m\u001b[1;33m.\u001b[0m\u001b[0mdataset\u001b[0m\u001b[1;33m[\u001b[0m\u001b[0mpossibly_batched_index\u001b[0m\u001b[1;33m]\u001b[0m\u001b[1;33m\u001b[0m\u001b[1;33m\u001b[0m\u001b[0m\n",
      "\u001b[1;32m~\\OneDrive\\Documents\\project\\image_caption\\data_block.py\u001b[0m in \u001b[0;36m__getitem__\u001b[1;34m(self, i)\u001b[0m\n\u001b[0;32m    130\u001b[0m         \u001b[0mself\u001b[0m\u001b[1;33m.\u001b[0m\u001b[0mpx\u001b[0m\u001b[1;33m,\u001b[0m\u001b[0mself\u001b[0m\u001b[1;33m.\u001b[0m\u001b[0mpy\u001b[0m \u001b[1;33m=\u001b[0m \u001b[0mproc_x\u001b[0m\u001b[1;33m,\u001b[0m \u001b[0mproc_y\u001b[0m\u001b[1;33m\u001b[0m\u001b[1;33m\u001b[0m\u001b[0m\n\u001b[0;32m    131\u001b[0m \u001b[1;33m\u001b[0m\u001b[0m\n\u001b[1;32m--> 132\u001b[1;33m     \u001b[1;32mdef\u001b[0m \u001b[0m__getitem__\u001b[0m\u001b[1;33m(\u001b[0m\u001b[0mself\u001b[0m\u001b[1;33m,\u001b[0m\u001b[0mi\u001b[0m\u001b[1;33m)\u001b[0m\u001b[1;33m:\u001b[0m\u001b[1;32mreturn\u001b[0m \u001b[0mself\u001b[0m\u001b[1;33m.\u001b[0m\u001b[0mx\u001b[0m\u001b[1;33m[\u001b[0m\u001b[0mi\u001b[0m\u001b[1;33m]\u001b[0m\u001b[1;33m,\u001b[0m\u001b[0mself\u001b[0m\u001b[1;33m.\u001b[0m\u001b[0my\u001b[0m\u001b[1;33m[\u001b[0m\u001b[0mi\u001b[0m\u001b[1;33m]\u001b[0m\u001b[1;33m\u001b[0m\u001b[1;33m\u001b[0m\u001b[0m\n\u001b[0m\u001b[0;32m    133\u001b[0m \u001b[1;33m\u001b[0m\u001b[0m\n\u001b[0;32m    134\u001b[0m     \u001b[1;32mdef\u001b[0m \u001b[0m__repr__\u001b[0m\u001b[1;33m(\u001b[0m\u001b[0mself\u001b[0m\u001b[1;33m)\u001b[0m\u001b[1;33m:\u001b[0m \u001b[1;32mreturn\u001b[0m \u001b[1;34mf'{self.__class__.__name__}\\nx: {self.x}\\ny: {self.y}\\n'\u001b[0m\u001b[1;33m\u001b[0m\u001b[1;33m\u001b[0m\u001b[0m\n",
      "\u001b[1;32m~\\OneDrive\\Documents\\project\\image_caption\\data_block.py\u001b[0m in \u001b[0;36m__getitem__\u001b[1;34m(self, i)\u001b[0m\n\u001b[0;32m     51\u001b[0m         \u001b[0mres\u001b[0m \u001b[1;33m=\u001b[0m \u001b[0msuper\u001b[0m\u001b[1;33m(\u001b[0m\u001b[1;33m)\u001b[0m\u001b[1;33m.\u001b[0m\u001b[0m__getitem__\u001b[0m\u001b[1;33m(\u001b[0m\u001b[0mi\u001b[0m\u001b[1;33m)\u001b[0m\u001b[1;33m\u001b[0m\u001b[1;33m\u001b[0m\u001b[0m\n\u001b[0;32m     52\u001b[0m         \u001b[1;32mif\u001b[0m \u001b[0misinstance\u001b[0m\u001b[1;33m(\u001b[0m\u001b[0mres\u001b[0m\u001b[1;33m,\u001b[0m\u001b[0mlist\u001b[0m\u001b[1;33m)\u001b[0m\u001b[1;33m:\u001b[0m \u001b[1;32mreturn\u001b[0m \u001b[1;33m[\u001b[0m\u001b[0mself\u001b[0m\u001b[1;33m.\u001b[0m\u001b[0mcomp\u001b[0m\u001b[1;33m(\u001b[0m\u001b[0mo\u001b[0m\u001b[1;33m)\u001b[0m \u001b[1;32mfor\u001b[0m \u001b[0mo\u001b[0m \u001b[1;32min\u001b[0m \u001b[0mres\u001b[0m\u001b[1;33m]\u001b[0m\u001b[1;33m\u001b[0m\u001b[1;33m\u001b[0m\u001b[0m\n\u001b[1;32m---> 53\u001b[1;33m         \u001b[1;32mreturn\u001b[0m \u001b[0mself\u001b[0m\u001b[1;33m.\u001b[0m\u001b[0mcomp\u001b[0m\u001b[1;33m(\u001b[0m\u001b[0mres\u001b[0m\u001b[1;33m)\u001b[0m\u001b[1;33m\u001b[0m\u001b[1;33m\u001b[0m\u001b[0m\n\u001b[0m\u001b[0;32m     54\u001b[0m \u001b[1;33m\u001b[0m\u001b[0m\n\u001b[0;32m     55\u001b[0m \u001b[1;33m\u001b[0m\u001b[0m\n",
      "\u001b[1;32m~\\OneDrive\\Documents\\project\\image_caption\\data_block.py\u001b[0m in \u001b[0;36mcomp\u001b[1;34m(self, o)\u001b[0m\n\u001b[0;32m     46\u001b[0m     \u001b[1;32mdef\u001b[0m \u001b[0mget\u001b[0m\u001b[1;33m(\u001b[0m\u001b[0mself\u001b[0m\u001b[1;33m,\u001b[0m\u001b[0mo\u001b[0m\u001b[1;33m)\u001b[0m\u001b[1;33m:\u001b[0m \u001b[1;32mreturn\u001b[0m \u001b[0mo\u001b[0m\u001b[1;33m\u001b[0m\u001b[1;33m\u001b[0m\u001b[0m\n\u001b[0;32m     47\u001b[0m \u001b[1;33m\u001b[0m\u001b[0m\n\u001b[1;32m---> 48\u001b[1;33m     \u001b[1;32mdef\u001b[0m \u001b[0mcomp\u001b[0m\u001b[1;33m(\u001b[0m\u001b[0mself\u001b[0m\u001b[1;33m,\u001b[0m\u001b[0mo\u001b[0m\u001b[1;33m)\u001b[0m\u001b[1;33m:\u001b[0m \u001b[1;32mreturn\u001b[0m \u001b[0mcompose\u001b[0m\u001b[1;33m(\u001b[0m\u001b[0mself\u001b[0m\u001b[1;33m.\u001b[0m\u001b[0mget\u001b[0m\u001b[1;33m(\u001b[0m\u001b[0mo\u001b[0m\u001b[1;33m)\u001b[0m\u001b[1;33m,\u001b[0m \u001b[0mself\u001b[0m\u001b[1;33m.\u001b[0m\u001b[0mtfs\u001b[0m\u001b[1;33m)\u001b[0m\u001b[1;33m\u001b[0m\u001b[1;33m\u001b[0m\u001b[0m\n\u001b[0m\u001b[0;32m     49\u001b[0m \u001b[1;33m\u001b[0m\u001b[0m\n\u001b[0;32m     50\u001b[0m     \u001b[1;32mdef\u001b[0m \u001b[0m__getitem__\u001b[0m\u001b[1;33m(\u001b[0m\u001b[0mself\u001b[0m\u001b[1;33m,\u001b[0m\u001b[0mi\u001b[0m\u001b[1;33m)\u001b[0m\u001b[1;33m:\u001b[0m\u001b[1;33m\u001b[0m\u001b[1;33m\u001b[0m\u001b[0m\n",
      "\u001b[1;32m~\\OneDrive\\Documents\\project\\image_caption\\utils.py\u001b[0m in \u001b[0;36mcompose\u001b[1;34m(x, funcs, order_key, **kwargs)\u001b[0m\n\u001b[0;32m      9\u001b[0m     \u001b[1;32mif\u001b[0m \u001b[0mfuncs\u001b[0m \u001b[1;32mis\u001b[0m \u001b[1;32mNone\u001b[0m\u001b[1;33m:\u001b[0m \u001b[1;32mreturn\u001b[0m \u001b[0mx\u001b[0m\u001b[1;33m\u001b[0m\u001b[1;33m\u001b[0m\u001b[0m\n\u001b[0;32m     10\u001b[0m     \u001b[0mfuncs\u001b[0m \u001b[1;33m=\u001b[0m \u001b[0mlistify\u001b[0m\u001b[1;33m(\u001b[0m\u001b[0mfuncs\u001b[0m\u001b[1;33m)\u001b[0m\u001b[1;33m\u001b[0m\u001b[1;33m\u001b[0m\u001b[0m\n\u001b[1;32m---> 11\u001b[1;33m     \u001b[1;32mfor\u001b[0m \u001b[0mf\u001b[0m \u001b[1;32min\u001b[0m \u001b[0msorted\u001b[0m\u001b[1;33m(\u001b[0m\u001b[0mfuncs\u001b[0m\u001b[1;33m,\u001b[0m \u001b[0mkey\u001b[0m \u001b[1;33m=\u001b[0m \u001b[1;32mlambda\u001b[0m \u001b[0mi\u001b[0m\u001b[1;33m:\u001b[0m \u001b[0mgetattr\u001b[0m\u001b[1;33m(\u001b[0m\u001b[0mi\u001b[0m\u001b[1;33m,\u001b[0m\u001b[0morder_key\u001b[0m\u001b[1;33m,\u001b[0m\u001b[1;36m0\u001b[0m\u001b[1;33m)\u001b[0m\u001b[1;33m)\u001b[0m\u001b[1;33m:\u001b[0m \u001b[0mx\u001b[0m \u001b[1;33m=\u001b[0m \u001b[0mf\u001b[0m\u001b[1;33m(\u001b[0m\u001b[0mx\u001b[0m\u001b[1;33m,\u001b[0m \u001b[1;33m**\u001b[0m\u001b[0mkwargs\u001b[0m\u001b[1;33m)\u001b[0m\u001b[1;33m\u001b[0m\u001b[1;33m\u001b[0m\u001b[0m\n\u001b[0m\u001b[0;32m     12\u001b[0m     \u001b[1;32mreturn\u001b[0m \u001b[0mx\u001b[0m\u001b[1;33m\u001b[0m\u001b[1;33m\u001b[0m\u001b[0m\n\u001b[0;32m     13\u001b[0m \u001b[1;33m\u001b[0m\u001b[0m\n",
      "\u001b[1;32m~\\OneDrive\\Documents\\project\\image_caption\\transforms.py\u001b[0m in \u001b[0;36minto_rgb\u001b[1;34m(x)\u001b[0m\n\u001b[0;32m      8\u001b[0m \u001b[1;32mclass\u001b[0m \u001b[0mTransform\u001b[0m\u001b[1;33m(\u001b[0m\u001b[1;33m)\u001b[0m\u001b[1;33m:\u001b[0m \u001b[0m_order\u001b[0m\u001b[1;33m,\u001b[0m\u001b[0m_valid\u001b[0m \u001b[1;33m=\u001b[0m \u001b[1;36m0\u001b[0m\u001b[1;33m,\u001b[0m \u001b[1;32mTrue\u001b[0m\u001b[1;33m\u001b[0m\u001b[1;33m\u001b[0m\u001b[0m\n\u001b[0;32m      9\u001b[0m \u001b[1;33m\u001b[0m\u001b[0m\n\u001b[1;32m---> 10\u001b[1;33m \u001b[1;32mdef\u001b[0m \u001b[0minto_rgb\u001b[0m\u001b[1;33m(\u001b[0m\u001b[0mx\u001b[0m\u001b[1;33m)\u001b[0m\u001b[1;33m:\u001b[0m \u001b[1;32mreturn\u001b[0m \u001b[0mx\u001b[0m\u001b[1;33m.\u001b[0m\u001b[0mconvert\u001b[0m\u001b[1;33m(\u001b[0m\u001b[1;34m'RGB'\u001b[0m\u001b[1;33m)\u001b[0m\u001b[1;33m\u001b[0m\u001b[1;33m\u001b[0m\u001b[0m\n\u001b[0m\u001b[0;32m     11\u001b[0m \u001b[1;33m\u001b[0m\u001b[0m\n\u001b[0;32m     12\u001b[0m \u001b[1;32mclass\u001b[0m \u001b[0mResizeFixed\u001b[0m\u001b[1;33m(\u001b[0m\u001b[0mTransform\u001b[0m\u001b[1;33m)\u001b[0m\u001b[1;33m:\u001b[0m\u001b[1;33m\u001b[0m\u001b[1;33m\u001b[0m\u001b[0m\n",
      "\u001b[1;32m~\\anaconda3\\lib\\site-packages\\PIL\\Image.py\u001b[0m in \u001b[0;36mconvert\u001b[1;34m(self, mode, matrix, dither, palette, colors)\u001b[0m\n\u001b[0;32m    900\u001b[0m         \"\"\"\n\u001b[0;32m    901\u001b[0m \u001b[1;33m\u001b[0m\u001b[0m\n\u001b[1;32m--> 902\u001b[1;33m         \u001b[0mself\u001b[0m\u001b[1;33m.\u001b[0m\u001b[0mload\u001b[0m\u001b[1;33m(\u001b[0m\u001b[1;33m)\u001b[0m\u001b[1;33m\u001b[0m\u001b[1;33m\u001b[0m\u001b[0m\n\u001b[0m\u001b[0;32m    903\u001b[0m \u001b[1;33m\u001b[0m\u001b[0m\n\u001b[0;32m    904\u001b[0m         \u001b[1;32mif\u001b[0m \u001b[1;32mnot\u001b[0m \u001b[0mmode\u001b[0m \u001b[1;32mand\u001b[0m \u001b[0mself\u001b[0m\u001b[1;33m.\u001b[0m\u001b[0mmode\u001b[0m \u001b[1;33m==\u001b[0m \u001b[1;34m\"P\"\u001b[0m\u001b[1;33m:\u001b[0m\u001b[1;33m\u001b[0m\u001b[1;33m\u001b[0m\u001b[0m\n",
      "\u001b[1;32m~\\anaconda3\\lib\\site-packages\\PIL\\ImageFile.py\u001b[0m in \u001b[0;36mload\u001b[1;34m(self)\u001b[0m\n\u001b[0;32m    259\u001b[0m \u001b[1;33m\u001b[0m\u001b[0m\n\u001b[0;32m    260\u001b[0m                             \u001b[0mb\u001b[0m \u001b[1;33m=\u001b[0m \u001b[0mb\u001b[0m \u001b[1;33m+\u001b[0m \u001b[0ms\u001b[0m\u001b[1;33m\u001b[0m\u001b[1;33m\u001b[0m\u001b[0m\n\u001b[1;32m--> 261\u001b[1;33m                             \u001b[0mn\u001b[0m\u001b[1;33m,\u001b[0m \u001b[0merr_code\u001b[0m \u001b[1;33m=\u001b[0m \u001b[0mdecoder\u001b[0m\u001b[1;33m.\u001b[0m\u001b[0mdecode\u001b[0m\u001b[1;33m(\u001b[0m\u001b[0mb\u001b[0m\u001b[1;33m)\u001b[0m\u001b[1;33m\u001b[0m\u001b[1;33m\u001b[0m\u001b[0m\n\u001b[0m\u001b[0;32m    262\u001b[0m                             \u001b[1;32mif\u001b[0m \u001b[0mn\u001b[0m \u001b[1;33m<\u001b[0m \u001b[1;36m0\u001b[0m\u001b[1;33m:\u001b[0m\u001b[1;33m\u001b[0m\u001b[1;33m\u001b[0m\u001b[0m\n\u001b[0;32m    263\u001b[0m                                 \u001b[1;32mbreak\u001b[0m\u001b[1;33m\u001b[0m\u001b[1;33m\u001b[0m\u001b[0m\n",
      "\u001b[1;31mKeyboardInterrupt\u001b[0m: "
     ]
    }
   ],
   "source": [
    "learn.fit(150)"
   ]
  },
  {
   "cell_type": "code",
   "execution_count": 16,
   "metadata": {},
   "outputs": [],
   "source": [
    "cbfs = [CudaCapCallback, partial(AvgStatsCallback, cap_accuracy, AvgStatsCap), \n",
    "        ProgressCallback, \n",
    "        normalise_callback(data, normalise_func= cap_normalise, use_imagenet_stats=True), \n",
    "        NewRecorderCallback,\n",
    "       WandbCallback]"
   ]
  },
  {
   "cell_type": "code",
   "execution_count": 13,
   "metadata": {},
   "outputs": [],
   "source": [
    "#export\n",
    "def sched_callbacks(lrs,fracs,mom_start=0.95,mom_mid=0.85,mom_end=0.95):\n",
    "    fracs = create_phases(fracs)\n",
    "    sched_lr = [combine_scheds(fracs, cos_annealer(lr/10,lr,lr/5)) for lr in lrs]\n",
    "    sched_mom = [combine_scheds(fracs, cos_annealer(mom_start,mom_mid,mom_end))]\n",
    "    \n",
    "    return [NewParamSchedulerCallback('lr', sched_funcs=sched_lr), NewParamSchedulerCallback('mom', sched_mom)]"
   ]
  },
  {
   "cell_type": "code",
   "execution_count": 15,
   "metadata": {},
   "outputs": [],
   "source": [
    "def splitter(model):\n",
    "    g1,g2 = [],[]\n",
    "    g1 = list(model.visual_backbone.parameters())\n",
    "    g2 = list(model.th.parameters())+list(model.lin_projection.parameters())+ list(model.embed.parameters()) + list(model.pos_enc.parameters())\n",
    "    return g1,g2"
   ]
  },
  {
   "cell_type": "code",
   "execution_count": 19,
   "metadata": {
    "scrolled": true
   },
   "outputs": [
    {
     "name": "stderr",
     "output_type": "stream",
     "text": [
      "wandb: Currently logged in as: a_bhimanyu (use `wandb login --relogin` to force relogin)\n",
      "wandb: Tracking run with wandb version 0.10.1\n",
      "wandb: Run data is saved locally in C:/Users/iamab/Downloads/datasets/coco\\wandb\\run-20200922_172814-f2upsrj0\n",
      "wandb: Syncing run mp_long_run_2\n"
     ]
    },
    {
     "data": {
      "text/html": [
       "\n",
       "                Logging results to <a href=\"https://wandb.com\" target=\"_blank\">Weights & Biases</a> <a href=\"https://docs.wandb.com/integrations/jupyter.html\" target=\"_blank\">(Documentation)</a>.<br/>\n",
       "                Project page: <a href=\"https://app.wandb.ai/a_bhimanyu/Caption-RTX2060\" target=\"_blank\">https://app.wandb.ai/a_bhimanyu/Caption-RTX2060</a><br/>\n",
       "                Run page: <a href=\"https://app.wandb.ai/a_bhimanyu/Caption-RTX2060/runs/f2upsrj0\" target=\"_blank\">https://app.wandb.ai/a_bhimanyu/Caption-RTX2060/runs/f2upsrj0</a><br/>\n",
       "            "
      ],
      "text/plain": [
       "<IPython.core.display.HTML object>"
      ]
     },
     "metadata": {},
     "output_type": "display_data"
    },
    {
     "name": "stdout",
     "output_type": "stream",
     "text": [
      "\n"
     ]
    }
   ],
   "source": [
    "wandb.init(name = 'mp_long_run_2', project = 'Caption-RTX2060',\n",
    "           entity = 'a_bhimanyu',dir = 'C:/Users/iamab/Downloads/datasets/coco');\n",
    "\n",
    "loss = FlatLoss(nn.CrossEntropyLoss(ignore_index = cap_model.pad_tok_id))"
   ]
  },
  {
   "cell_type": "code",
   "execution_count": 20,
   "metadata": {},
   "outputs": [],
   "source": [
    "optimizer = partial(StatefulOptimizer,\n",
    "                    steppers = [momentum_step, weight_decay,lookahead_step],\n",
    "                   stats = [AverageGrad(), Step(), LookAheadStat()],\n",
    "                   lr = 0.001, wd = 1e-04)"
   ]
  },
  {
   "cell_type": "code",
   "execution_count": 21,
   "metadata": {},
   "outputs": [],
   "source": [
    "learn = Learner(cap_model, data, loss_func= loss, opt_func=optimizer, splitter= splitter, cb_funcs=cbfs)"
   ]
  },
  {
   "cell_type": "code",
   "execution_count": 22,
   "metadata": {},
   "outputs": [
    {
     "data": {
      "text/plain": [
       "<All keys matched successfully>"
      ]
     },
     "execution_count": 22,
     "metadata": {},
     "output_type": "execute_result"
    }
   ],
   "source": [
    "learn.model.load_state_dict(torch.load('C:/Users/iamab/Downloads/datasets/coco/wandb/run-20200920_132459-33bsea3c/files/bestmodel.pth'))"
   ]
  },
  {
   "cell_type": "code",
   "execution_count": 23,
   "metadata": {},
   "outputs": [
    {
     "data": {
      "text/html": [
       "\n",
       "    <div>\n",
       "        <style>\n",
       "            /* Turns off some styling */\n",
       "            progress {\n",
       "                /* gets rid of default border in Firefox and Opera. */\n",
       "                border: none;\n",
       "                /* Needs to be in here for Safari polyfill so background images work as expected. */\n",
       "                background-size: auto;\n",
       "            }\n",
       "            .progress-bar-interrupted, .progress-bar-interrupted::-webkit-progress-bar {\n",
       "                background: #F44336;\n",
       "            }\n",
       "        </style>\n",
       "      <progress value='0' class='' max='50' style='width:300px; height:20px; vertical-align: middle;'></progress>\n",
       "      \n",
       "    </div>\n",
       "    \n"
      ],
      "text/plain": [
       "<IPython.core.display.HTML object>"
      ]
     },
     "metadata": {},
     "output_type": "display_data"
    },
    {
     "data": {
      "text/html": [
       "<table border=\"1\" class=\"dataframe\">\n",
       "  <thead>\n",
       "    <tr style=\"text-align: left;\">\n",
       "      <th>epoch</th>\n",
       "      <th>train_loss</th>\n",
       "      <th>train_cap_accuracy</th>\n",
       "      <th>valid_loss</th>\n",
       "      <th>valid_cap_accuracy</th>\n",
       "      <th>time</th>\n",
       "    </tr>\n",
       "  </thead>\n",
       "  <tbody>\n",
       "    <tr>\n",
       "      <td>0</td>\n",
       "      <td>2.134185</td>\n",
       "      <td>0.136589</td>\n",
       "      <td>2.656917</td>\n",
       "      <td>0.126071</td>\n",
       "      <td>36:48</td>\n",
       "    </tr>\n",
       "    <tr>\n",
       "      <td>1</td>\n",
       "      <td>2.059810</td>\n",
       "      <td>0.139802</td>\n",
       "      <td>2.643225</td>\n",
       "      <td>0.126739</td>\n",
       "      <td>35:51</td>\n",
       "    </tr>\n",
       "    <tr>\n",
       "      <td>2</td>\n",
       "      <td>2.023490</td>\n",
       "      <td>0.141313</td>\n",
       "      <td>2.630405</td>\n",
       "      <td>0.127465</td>\n",
       "      <td>35:52</td>\n",
       "    </tr>\n",
       "    <tr>\n",
       "      <td>3</td>\n",
       "      <td>1.996529</td>\n",
       "      <td>0.142281</td>\n",
       "      <td>2.620119</td>\n",
       "      <td>0.127829</td>\n",
       "      <td>36:03</td>\n",
       "    </tr>\n",
       "    <tr>\n",
       "      <td>4</td>\n",
       "      <td>1.979240</td>\n",
       "      <td>0.142878</td>\n",
       "      <td>2.613680</td>\n",
       "      <td>0.127913</td>\n",
       "      <td>36:02</td>\n",
       "    </tr>\n",
       "    <tr>\n",
       "      <td>5</td>\n",
       "      <td>1.969854</td>\n",
       "      <td>0.143202</td>\n",
       "      <td>2.614824</td>\n",
       "      <td>0.127966</td>\n",
       "      <td>36:07</td>\n",
       "    </tr>\n",
       "    <tr>\n",
       "      <td>6</td>\n",
       "      <td>1.966286</td>\n",
       "      <td>0.143051</td>\n",
       "      <td>2.622059</td>\n",
       "      <td>0.128054</td>\n",
       "      <td>36:23</td>\n",
       "    </tr>\n",
       "    <tr>\n",
       "      <td>7</td>\n",
       "      <td>1.961821</td>\n",
       "      <td>0.143086</td>\n",
       "      <td>2.625243</td>\n",
       "      <td>0.127929</td>\n",
       "      <td>36:22</td>\n",
       "    </tr>\n",
       "    <tr>\n",
       "      <td>8</td>\n",
       "      <td>1.950217</td>\n",
       "      <td>0.143306</td>\n",
       "      <td>2.633529</td>\n",
       "      <td>0.127943</td>\n",
       "      <td>36:39</td>\n",
       "    </tr>\n",
       "    <tr>\n",
       "      <td>9</td>\n",
       "      <td>1.926666</td>\n",
       "      <td>0.144265</td>\n",
       "      <td>2.624206</td>\n",
       "      <td>0.128557</td>\n",
       "      <td>36:07</td>\n",
       "    </tr>\n",
       "    <tr>\n",
       "      <td>10</td>\n",
       "      <td>1.890658</td>\n",
       "      <td>0.145960</td>\n",
       "      <td>2.645710</td>\n",
       "      <td>0.128826</td>\n",
       "      <td>36:01</td>\n",
       "    </tr>\n",
       "    <tr>\n",
       "      <td>11</td>\n",
       "      <td>1.851698</td>\n",
       "      <td>0.147523</td>\n",
       "      <td>2.661395</td>\n",
       "      <td>0.127870</td>\n",
       "      <td>36:06</td>\n",
       "    </tr>\n",
       "    <tr>\n",
       "      <td>12</td>\n",
       "      <td>1.812086</td>\n",
       "      <td>0.149180</td>\n",
       "      <td>2.661161</td>\n",
       "      <td>0.128686</td>\n",
       "      <td>36:15</td>\n",
       "    </tr>\n",
       "    <tr>\n",
       "      <td>13</td>\n",
       "      <td>1.770327</td>\n",
       "      <td>0.151010</td>\n",
       "      <td>2.731334</td>\n",
       "      <td>0.125784</td>\n",
       "      <td>36:31</td>\n",
       "    </tr>\n",
       "    <tr>\n",
       "      <td>14</td>\n",
       "      <td>1.726841</td>\n",
       "      <td>0.152823</td>\n",
       "      <td>2.717383</td>\n",
       "      <td>0.125949</td>\n",
       "      <td>36:43</td>\n",
       "    </tr>\n",
       "    <tr>\n",
       "      <td>15</td>\n",
       "      <td>1.687097</td>\n",
       "      <td>0.154784</td>\n",
       "      <td>2.735341</td>\n",
       "      <td>0.127276</td>\n",
       "      <td>36:53</td>\n",
       "    </tr>\n",
       "    <tr>\n",
       "      <td>16</td>\n",
       "      <td>1.642436</td>\n",
       "      <td>0.156753</td>\n",
       "      <td>2.813236</td>\n",
       "      <td>0.124134</td>\n",
       "      <td>37:05</td>\n",
       "    </tr>\n",
       "    <tr>\n",
       "      <td>17</td>\n",
       "      <td>1.600132</td>\n",
       "      <td>0.158730</td>\n",
       "      <td>2.818112</td>\n",
       "      <td>0.125639</td>\n",
       "      <td>37:08</td>\n",
       "    </tr>\n",
       "    <tr>\n",
       "      <td>18</td>\n",
       "      <td>1.555441</td>\n",
       "      <td>0.160835</td>\n",
       "      <td>2.847160</td>\n",
       "      <td>0.124859</td>\n",
       "      <td>37:28</td>\n",
       "    </tr>\n",
       "    <tr>\n",
       "      <td>19</td>\n",
       "      <td>1.511800</td>\n",
       "      <td>0.162907</td>\n",
       "      <td>2.884227</td>\n",
       "      <td>0.124786</td>\n",
       "      <td>37:38</td>\n",
       "    </tr>\n",
       "    <tr>\n",
       "      <td>20</td>\n",
       "      <td>1.465324</td>\n",
       "      <td>0.165157</td>\n",
       "      <td>2.950140</td>\n",
       "      <td>0.122507</td>\n",
       "      <td>38:11</td>\n",
       "    </tr>\n",
       "    <tr>\n",
       "      <td>21</td>\n",
       "      <td>1.418457</td>\n",
       "      <td>0.167458</td>\n",
       "      <td>2.956398</td>\n",
       "      <td>0.123745</td>\n",
       "      <td>38:32</td>\n",
       "    </tr>\n",
       "    <tr>\n",
       "      <td>22</td>\n",
       "      <td>1.368511</td>\n",
       "      <td>0.170176</td>\n",
       "      <td>2.980286</td>\n",
       "      <td>0.125166</td>\n",
       "      <td>39:03</td>\n",
       "    </tr>\n",
       "    <tr>\n",
       "      <td>23</td>\n",
       "      <td>1.318887</td>\n",
       "      <td>0.172760</td>\n",
       "      <td>3.038743</td>\n",
       "      <td>0.123382</td>\n",
       "      <td>39:20</td>\n",
       "    </tr>\n",
       "  </tbody>\n",
       "</table>"
      ],
      "text/plain": [
       "<IPython.core.display.HTML object>"
      ]
     },
     "metadata": {},
     "output_type": "display_data"
    },
    {
     "name": "stdout",
     "output_type": "stream",
     "text": [
      "Better model found at epoch 0 with valid_loss value: 2.667978286743164.\n",
      "Saving model state at <_io.BufferedWriter name='C:\\\\Users\\\\iamab\\\\Downloads\\\\datasets\\\\coco\\\\wandb\\\\run-20200922_172814-f2upsrj0\\\\files\\\\bestmodel.pth'>\n",
      "Better model found at epoch 1 with valid_loss value: 2.2789809703826904.\n",
      "Saving model state at <_io.BufferedWriter name='C:\\\\Users\\\\iamab\\\\Downloads\\\\datasets\\\\coco\\\\wandb\\\\run-20200922_172814-f2upsrj0\\\\files\\\\bestmodel.pth'>\n",
      "Better model found at epoch 9 with valid_loss value: 2.0214524269104004.\n",
      "Saving model state at <_io.BufferedWriter name='C:\\\\Users\\\\iamab\\\\Downloads\\\\datasets\\\\coco\\\\wandb\\\\run-20200922_172814-f2upsrj0\\\\files\\\\bestmodel.pth'>\n",
      "Better model found at epoch 20 with valid_loss value: 1.9875178337097168.\n",
      "Saving model state at <_io.BufferedWriter name='C:\\\\Users\\\\iamab\\\\Downloads\\\\datasets\\\\coco\\\\wandb\\\\run-20200922_172814-f2upsrj0\\\\files\\\\bestmodel.pth'>\n",
      "Loading model state from <_io.BufferedReader name='C:\\\\Users\\\\iamab\\\\Downloads\\\\datasets\\\\coco\\\\wandb\\\\run-20200922_172814-f2upsrj0\\\\files\\\\bestmodel.pth'>\n",
      "Loaded best saved model from C:\\Users\\iamab\\Downloads\\datasets\\coco\\wandb\\run-20200922_172814-f2upsrj0\\files\\bestmodel.pth\n"
     ]
    },
    {
     "ename": "KeyboardInterrupt",
     "evalue": "",
     "output_type": "error",
     "traceback": [
      "\u001b[1;31m---------------------------------------------------------------------------\u001b[0m",
      "\u001b[1;31mKeyboardInterrupt\u001b[0m                         Traceback (most recent call last)",
      "\u001b[1;32m<ipython-input-23-a5771dd8c278>\u001b[0m in \u001b[0;36m<module>\u001b[1;34m\u001b[0m\n\u001b[1;32m----> 1\u001b[1;33m \u001b[0mlearn\u001b[0m\u001b[1;33m.\u001b[0m\u001b[0mfit\u001b[0m\u001b[1;33m(\u001b[0m\u001b[1;36m50\u001b[0m\u001b[1;33m,\u001b[0m \u001b[0mcbs\u001b[0m \u001b[1;33m=\u001b[0m \u001b[0msched_callbacks\u001b[0m\u001b[1;33m(\u001b[0m\u001b[1;33m[\u001b[0m\u001b[1;36m0.01\u001b[0m\u001b[1;33m,\u001b[0m \u001b[1;36m0.1\u001b[0m\u001b[1;33m]\u001b[0m\u001b[1;33m,\u001b[0m \u001b[0mfracs\u001b[0m \u001b[1;33m=\u001b[0m \u001b[1;36m0.2\u001b[0m\u001b[1;33m)\u001b[0m\u001b[1;33m)\u001b[0m\u001b[1;33m\u001b[0m\u001b[1;33m\u001b[0m\u001b[0m\n\u001b[0m",
      "\u001b[1;32m~\\OneDrive\\Documents\\project\\image_caption\\learner.py\u001b[0m in \u001b[0;36mfit\u001b[1;34m(self, epochs, cbs, reset_opt)\u001b[0m\n\u001b[0;32m     76\u001b[0m                 \u001b[1;32mwith\u001b[0m \u001b[0mtorch\u001b[0m\u001b[1;33m.\u001b[0m\u001b[0mno_grad\u001b[0m\u001b[1;33m(\u001b[0m\u001b[1;33m)\u001b[0m\u001b[1;33m:\u001b[0m\u001b[1;33m\u001b[0m\u001b[1;33m\u001b[0m\u001b[0m\n\u001b[0;32m     77\u001b[0m                     \u001b[0mself\u001b[0m\u001b[1;33m.\u001b[0m\u001b[0mdl\u001b[0m \u001b[1;33m=\u001b[0m \u001b[0mself\u001b[0m\u001b[1;33m.\u001b[0m\u001b[0mdata\u001b[0m\u001b[1;33m.\u001b[0m\u001b[0mvalid_dl\u001b[0m\u001b[1;33m\u001b[0m\u001b[1;33m\u001b[0m\u001b[0m\n\u001b[1;32m---> 78\u001b[1;33m                     \u001b[1;32mif\u001b[0m \u001b[1;32mnot\u001b[0m \u001b[0mself\u001b[0m\u001b[1;33m(\u001b[0m\u001b[1;34m'begin_validate'\u001b[0m\u001b[1;33m)\u001b[0m\u001b[1;33m:\u001b[0m \u001b[0mself\u001b[0m\u001b[1;33m.\u001b[0m\u001b[0mall_batches\u001b[0m\u001b[1;33m(\u001b[0m\u001b[1;33m)\u001b[0m\u001b[1;33m\u001b[0m\u001b[1;33m\u001b[0m\u001b[0m\n\u001b[0m\u001b[0;32m     79\u001b[0m                 \u001b[0mself\u001b[0m\u001b[1;33m(\u001b[0m\u001b[1;34m'after_epoch'\u001b[0m\u001b[1;33m)\u001b[0m\u001b[1;33m\u001b[0m\u001b[1;33m\u001b[0m\u001b[0m\n\u001b[0;32m     80\u001b[0m \u001b[1;33m\u001b[0m\u001b[0m\n",
      "\u001b[1;32m~\\OneDrive\\Documents\\project\\image_caption\\learner.py\u001b[0m in \u001b[0;36mall_batches\u001b[1;34m(self)\u001b[0m\n\u001b[0;32m     52\u001b[0m         \u001b[0mself\u001b[0m\u001b[1;33m.\u001b[0m\u001b[0miters\u001b[0m \u001b[1;33m=\u001b[0m \u001b[0mlen\u001b[0m\u001b[1;33m(\u001b[0m\u001b[0mself\u001b[0m\u001b[1;33m.\u001b[0m\u001b[0mdl\u001b[0m\u001b[1;33m)\u001b[0m\u001b[1;33m\u001b[0m\u001b[1;33m\u001b[0m\u001b[0m\n\u001b[0;32m     53\u001b[0m         \u001b[1;32mtry\u001b[0m\u001b[1;33m:\u001b[0m\u001b[1;33m\u001b[0m\u001b[1;33m\u001b[0m\u001b[0m\n\u001b[1;32m---> 54\u001b[1;33m             \u001b[1;32mfor\u001b[0m \u001b[0mi\u001b[0m\u001b[1;33m,\u001b[0m\u001b[1;33m(\u001b[0m\u001b[0mxb\u001b[0m\u001b[1;33m,\u001b[0m\u001b[0myb\u001b[0m\u001b[1;33m)\u001b[0m \u001b[1;32min\u001b[0m \u001b[0menumerate\u001b[0m\u001b[1;33m(\u001b[0m\u001b[0mself\u001b[0m\u001b[1;33m.\u001b[0m\u001b[0mdl\u001b[0m\u001b[1;33m)\u001b[0m\u001b[1;33m:\u001b[0m \u001b[0mself\u001b[0m\u001b[1;33m.\u001b[0m\u001b[0mone_batch\u001b[0m\u001b[1;33m(\u001b[0m\u001b[0mi\u001b[0m\u001b[1;33m,\u001b[0m \u001b[0mxb\u001b[0m\u001b[1;33m,\u001b[0m \u001b[0myb\u001b[0m\u001b[1;33m)\u001b[0m\u001b[1;33m\u001b[0m\u001b[1;33m\u001b[0m\u001b[0m\n\u001b[0m\u001b[0;32m     55\u001b[0m         \u001b[1;32mexcept\u001b[0m \u001b[0mCancelEpochException\u001b[0m\u001b[1;33m:\u001b[0m \u001b[0mself\u001b[0m\u001b[1;33m(\u001b[0m\u001b[1;34m'after_cancel_epoch'\u001b[0m\u001b[1;33m)\u001b[0m\u001b[1;33m\u001b[0m\u001b[1;33m\u001b[0m\u001b[0m\n\u001b[0;32m     56\u001b[0m \u001b[1;33m\u001b[0m\u001b[0m\n",
      "\u001b[1;32m~\\OneDrive\\Documents\\project\\image_caption\\learner.py\u001b[0m in \u001b[0;36mone_batch\u001b[1;34m(self, i, xb, yb)\u001b[0m\n\u001b[0;32m     40\u001b[0m             \u001b[0mself\u001b[0m\u001b[1;33m.\u001b[0m\u001b[0miter\u001b[0m \u001b[1;33m=\u001b[0m \u001b[0mi\u001b[0m\u001b[1;33m\u001b[0m\u001b[1;33m\u001b[0m\u001b[0m\n\u001b[0;32m     41\u001b[0m             \u001b[0mself\u001b[0m\u001b[1;33m.\u001b[0m\u001b[0mxb\u001b[0m\u001b[1;33m,\u001b[0m\u001b[0mself\u001b[0m\u001b[1;33m.\u001b[0m\u001b[0myb\u001b[0m \u001b[1;33m=\u001b[0m \u001b[0mxb\u001b[0m\u001b[1;33m,\u001b[0m\u001b[0myb\u001b[0m\u001b[1;33m;\u001b[0m                        \u001b[0mself\u001b[0m\u001b[1;33m(\u001b[0m\u001b[1;34m'begin_batch'\u001b[0m\u001b[1;33m)\u001b[0m\u001b[1;33m\u001b[0m\u001b[1;33m\u001b[0m\u001b[0m\n\u001b[1;32m---> 42\u001b[1;33m             \u001b[0mself\u001b[0m\u001b[1;33m.\u001b[0m\u001b[0mpred\u001b[0m \u001b[1;33m=\u001b[0m \u001b[0mself\u001b[0m\u001b[1;33m.\u001b[0m\u001b[0mmodel\u001b[0m\u001b[1;33m(\u001b[0m\u001b[0mself\u001b[0m\u001b[1;33m.\u001b[0m\u001b[0mxb\u001b[0m\u001b[1;33m)\u001b[0m\u001b[1;33m;\u001b[0m                \u001b[0mself\u001b[0m\u001b[1;33m(\u001b[0m\u001b[1;34m'after_pred'\u001b[0m\u001b[1;33m)\u001b[0m\u001b[1;33m\u001b[0m\u001b[1;33m\u001b[0m\u001b[0m\n\u001b[0m\u001b[0;32m     43\u001b[0m             \u001b[0mself\u001b[0m\u001b[1;33m.\u001b[0m\u001b[0mloss\u001b[0m \u001b[1;33m=\u001b[0m \u001b[0mself\u001b[0m\u001b[1;33m.\u001b[0m\u001b[0mloss_func\u001b[0m\u001b[1;33m(\u001b[0m\u001b[0mself\u001b[0m\u001b[1;33m.\u001b[0m\u001b[0mpred\u001b[0m\u001b[1;33m,\u001b[0m \u001b[0mself\u001b[0m\u001b[1;33m.\u001b[0m\u001b[0myb\u001b[0m\u001b[1;33m)\u001b[0m\u001b[1;33m;\u001b[0m \u001b[0mself\u001b[0m\u001b[1;33m(\u001b[0m\u001b[1;34m'after_loss'\u001b[0m\u001b[1;33m)\u001b[0m\u001b[1;33m\u001b[0m\u001b[1;33m\u001b[0m\u001b[0m\n\u001b[0;32m     44\u001b[0m             \u001b[1;32mif\u001b[0m \u001b[1;32mnot\u001b[0m \u001b[0mself\u001b[0m\u001b[1;33m.\u001b[0m\u001b[0min_train\u001b[0m\u001b[1;33m:\u001b[0m \u001b[1;32mreturn\u001b[0m\u001b[1;33m\u001b[0m\u001b[1;33m\u001b[0m\u001b[0m\n",
      "\u001b[1;32m~\\anaconda3\\lib\\site-packages\\torch\\nn\\modules\\module.py\u001b[0m in \u001b[0;36m_call_impl\u001b[1;34m(self, *input, **kwargs)\u001b[0m\n\u001b[0;32m    720\u001b[0m             \u001b[0mresult\u001b[0m \u001b[1;33m=\u001b[0m \u001b[0mself\u001b[0m\u001b[1;33m.\u001b[0m\u001b[0m_slow_forward\u001b[0m\u001b[1;33m(\u001b[0m\u001b[1;33m*\u001b[0m\u001b[0minput\u001b[0m\u001b[1;33m,\u001b[0m \u001b[1;33m**\u001b[0m\u001b[0mkwargs\u001b[0m\u001b[1;33m)\u001b[0m\u001b[1;33m\u001b[0m\u001b[1;33m\u001b[0m\u001b[0m\n\u001b[0;32m    721\u001b[0m         \u001b[1;32melse\u001b[0m\u001b[1;33m:\u001b[0m\u001b[1;33m\u001b[0m\u001b[1;33m\u001b[0m\u001b[0m\n\u001b[1;32m--> 722\u001b[1;33m             \u001b[0mresult\u001b[0m \u001b[1;33m=\u001b[0m \u001b[0mself\u001b[0m\u001b[1;33m.\u001b[0m\u001b[0mforward\u001b[0m\u001b[1;33m(\u001b[0m\u001b[1;33m*\u001b[0m\u001b[0minput\u001b[0m\u001b[1;33m,\u001b[0m \u001b[1;33m**\u001b[0m\u001b[0mkwargs\u001b[0m\u001b[1;33m)\u001b[0m\u001b[1;33m\u001b[0m\u001b[1;33m\u001b[0m\u001b[0m\n\u001b[0m\u001b[0;32m    723\u001b[0m         for hook in itertools.chain(\n\u001b[0;32m    724\u001b[0m                 \u001b[0m_global_forward_hooks\u001b[0m\u001b[1;33m.\u001b[0m\u001b[0mvalues\u001b[0m\u001b[1;33m(\u001b[0m\u001b[1;33m)\u001b[0m\u001b[1;33m,\u001b[0m\u001b[1;33m\u001b[0m\u001b[1;33m\u001b[0m\u001b[0m\n",
      "\u001b[1;32m~\\OneDrive\\Documents\\project\\image_caption\\model.py\u001b[0m in \u001b[0;36mforward\u001b[1;34m(self, inp)\u001b[0m\n\u001b[0;32m     27\u001b[0m         \u001b[0mvf\u001b[0m \u001b[1;33m=\u001b[0m \u001b[0mvf\u001b[0m\u001b[1;33m.\u001b[0m\u001b[0mview\u001b[0m\u001b[1;33m(\u001b[0m\u001b[0mvf\u001b[0m\u001b[1;33m.\u001b[0m\u001b[0msize\u001b[0m\u001b[1;33m(\u001b[0m\u001b[1;36m0\u001b[0m\u001b[1;33m)\u001b[0m\u001b[1;33m,\u001b[0m \u001b[0mvf\u001b[0m\u001b[1;33m.\u001b[0m\u001b[0msize\u001b[0m\u001b[1;33m(\u001b[0m\u001b[1;36m1\u001b[0m\u001b[1;33m)\u001b[0m\u001b[1;33m,\u001b[0m \u001b[1;33m-\u001b[0m\u001b[1;36m1\u001b[0m\u001b[1;33m)\u001b[0m\u001b[1;33m.\u001b[0m\u001b[0mpermute\u001b[0m\u001b[1;33m(\u001b[0m\u001b[1;36m0\u001b[0m\u001b[1;33m,\u001b[0m\u001b[1;36m2\u001b[0m\u001b[1;33m,\u001b[0m\u001b[1;36m1\u001b[0m\u001b[1;33m)\u001b[0m\u001b[1;33m\u001b[0m\u001b[1;33m\u001b[0m\u001b[0m\n\u001b[0;32m     28\u001b[0m         \u001b[0mvf\u001b[0m \u001b[1;33m=\u001b[0m \u001b[0mself\u001b[0m\u001b[1;33m.\u001b[0m\u001b[0mlin_projection\u001b[0m\u001b[1;33m(\u001b[0m\u001b[0mvf\u001b[0m\u001b[1;33m)\u001b[0m\u001b[1;33m\u001b[0m\u001b[1;33m\u001b[0m\u001b[0m\n\u001b[1;32m---> 29\u001b[1;33m         \u001b[0msub_mask\u001b[0m \u001b[1;33m=\u001b[0m \u001b[0mget_padding_mask\u001b[0m\u001b[1;33m(\u001b[0m\u001b[0mcaption\u001b[0m\u001b[1;33m,\u001b[0m\u001b[0mpad_idx\u001b[0m \u001b[1;33m=\u001b[0m \u001b[0mself\u001b[0m\u001b[1;33m.\u001b[0m\u001b[0mpad_tok_id\u001b[0m\u001b[1;33m)\u001b[0m \u001b[1;33m+\u001b[0m \u001b[0mattention_mask\u001b[0m\u001b[1;33m(\u001b[0m\u001b[0mcaption\u001b[0m\u001b[1;33m)\u001b[0m\u001b[1;33m\u001b[0m\u001b[1;33m\u001b[0m\u001b[0m\n\u001b[0m\u001b[0;32m     30\u001b[0m         \u001b[0mpad_mask\u001b[0m \u001b[1;33m=\u001b[0m \u001b[0mget_padding_mask\u001b[0m\u001b[1;33m(\u001b[0m\u001b[0mcaption\u001b[0m\u001b[1;33m,\u001b[0m\u001b[0mpad_idx\u001b[0m \u001b[1;33m=\u001b[0m \u001b[0mself\u001b[0m\u001b[1;33m.\u001b[0m\u001b[0mpad_tok_id\u001b[0m\u001b[1;33m)\u001b[0m\u001b[1;33m\u001b[0m\u001b[1;33m\u001b[0m\u001b[0m\n\u001b[0;32m     31\u001b[0m         \u001b[0mcaption\u001b[0m \u001b[1;33m=\u001b[0m \u001b[0mself\u001b[0m\u001b[1;33m.\u001b[0m\u001b[0mpos_enc\u001b[0m\u001b[1;33m(\u001b[0m\u001b[0mself\u001b[0m\u001b[1;33m.\u001b[0m\u001b[0membed\u001b[0m\u001b[1;33m(\u001b[0m\u001b[0mcaption\u001b[0m\u001b[1;33m)\u001b[0m\u001b[1;33m)\u001b[0m\u001b[1;33m\u001b[0m\u001b[1;33m\u001b[0m\u001b[0m\n",
      "\u001b[1;32m~\\OneDrive\\Documents\\project\\image_caption\\transformer.py\u001b[0m in \u001b[0;36mattention_mask\u001b[1;34m(x)\u001b[0m\n\u001b[0;32m     94\u001b[0m     \u001b[0msz\u001b[0m \u001b[1;33m=\u001b[0m \u001b[1;33m(\u001b[0m\u001b[0mx\u001b[0m\u001b[1;33m.\u001b[0m\u001b[0msize\u001b[0m\u001b[1;33m(\u001b[0m\u001b[1;36m1\u001b[0m\u001b[1;33m)\u001b[0m\u001b[1;33m,\u001b[0m\u001b[1;33m)\u001b[0m\u001b[1;33m*\u001b[0m\u001b[1;36m2\u001b[0m\u001b[1;33m\u001b[0m\u001b[1;33m\u001b[0m\u001b[0m\n\u001b[0;32m     95\u001b[0m     \u001b[0mmat\u001b[0m \u001b[1;33m=\u001b[0m \u001b[1;33m(\u001b[0m\u001b[0mtorch\u001b[0m\u001b[1;33m.\u001b[0m\u001b[0mtriu\u001b[0m\u001b[1;33m(\u001b[0m\u001b[0mtorch\u001b[0m\u001b[1;33m.\u001b[0m\u001b[0mones\u001b[0m\u001b[1;33m(\u001b[0m\u001b[1;33m*\u001b[0m\u001b[0msz\u001b[0m\u001b[1;33m)\u001b[0m\u001b[1;33m,\u001b[0m \u001b[0mdiagonal\u001b[0m\u001b[1;33m=\u001b[0m\u001b[1;36m1\u001b[0m\u001b[1;33m)\u001b[0m\u001b[1;33m)\u001b[0m\u001b[1;33m.\u001b[0m\u001b[0mbool\u001b[0m\u001b[1;33m(\u001b[0m\u001b[1;33m)\u001b[0m\u001b[1;33m\u001b[0m\u001b[1;33m\u001b[0m\u001b[0m\n\u001b[1;32m---> 96\u001b[1;33m     \u001b[0mmat\u001b[0m \u001b[1;33m=\u001b[0m \u001b[0mmat\u001b[0m\u001b[1;33m.\u001b[0m\u001b[0mto\u001b[0m\u001b[1;33m(\u001b[0m\u001b[0mx\u001b[0m\u001b[1;33m.\u001b[0m\u001b[0mdevice\u001b[0m\u001b[1;33m)\u001b[0m\u001b[1;33m\u001b[0m\u001b[1;33m\u001b[0m\u001b[0m\n\u001b[0m\u001b[0;32m     97\u001b[0m     \u001b[1;32mreturn\u001b[0m \u001b[0mmat\u001b[0m\u001b[1;33m[\u001b[0m\u001b[1;32mNone\u001b[0m\u001b[1;33m]\u001b[0m\u001b[1;33m\u001b[0m\u001b[1;33m\u001b[0m\u001b[0m\n\u001b[0;32m     98\u001b[0m \u001b[1;33m\u001b[0m\u001b[0m\n",
      "\u001b[1;31mKeyboardInterrupt\u001b[0m: "
     ]
    }
   ],
   "source": [
    "learn.fit(50, cbs = sched_callbacks([0.01, 0.1], fracs = 0.2))"
   ]
  },
  {
   "cell_type": "code",
   "execution_count": 16,
   "metadata": {},
   "outputs": [],
   "source": [
    "cbfs = [CudaCapCallback, partial(AvgStatsCallback, cap_accuracy, AvgStatsCap), \n",
    "        ProgressCallback, \n",
    "        normalise_callback(data, normalise_func= cap_normalise, use_imagenet_stats=True), \n",
    "        NewRecorderCallback,\n",
    "       WandbCallback]"
   ]
  },
  {
   "cell_type": "code",
   "execution_count": 16,
   "metadata": {},
   "outputs": [
    {
     "name": "stderr",
     "output_type": "stream",
     "text": [
      "wandb: Currently logged in as: a_bhimanyu (use `wandb login --relogin` to force relogin)\n",
      "wandb: wandb version 0.10.2 is available!  To upgrade, please run:\n",
      "wandb:  $ pip install wandb --upgrade\n",
      "wandb: Tracking run with wandb version 0.10.1\n",
      "wandb: Run data is saved locally in C:/Users/iamab/Downloads/datasets/coco\\wandb\\run-20200923_092818-1j1632a1\n",
      "wandb: Syncing run mp_long_run_3\n"
     ]
    },
    {
     "data": {
      "text/html": [
       "\n",
       "                Logging results to <a href=\"https://wandb.com\" target=\"_blank\">Weights & Biases</a> <a href=\"https://docs.wandb.com/integrations/jupyter.html\" target=\"_blank\">(Documentation)</a>.<br/>\n",
       "                Project page: <a href=\"https://app.wandb.ai/a_bhimanyu/Caption-RTX2060\" target=\"_blank\">https://app.wandb.ai/a_bhimanyu/Caption-RTX2060</a><br/>\n",
       "                Run page: <a href=\"https://app.wandb.ai/a_bhimanyu/Caption-RTX2060/runs/1j1632a1\" target=\"_blank\">https://app.wandb.ai/a_bhimanyu/Caption-RTX2060/runs/1j1632a1</a><br/>\n",
       "            "
      ],
      "text/plain": [
       "<IPython.core.display.HTML object>"
      ]
     },
     "metadata": {},
     "output_type": "display_data"
    },
    {
     "name": "stdout",
     "output_type": "stream",
     "text": [
      "\n"
     ]
    }
   ],
   "source": [
    "wandb.init(name = 'mp_long_run_3', project = 'Caption-RTX2060',\n",
    "           entity = 'a_bhimanyu',dir = 'C:/Users/iamab/Downloads/datasets/coco');\n",
    "\n",
    "loss = FlatLoss(nn.CrossEntropyLoss(ignore_index = cap_model.pad_tok_id))"
   ]
  },
  {
   "cell_type": "code",
   "execution_count": 18,
   "metadata": {},
   "outputs": [],
   "source": [
    "optimizer = partial(StatefulOptimizer,\n",
    "                    steppers = [momentum_step, weight_decay,lookahead_step],\n",
    "                   stats = [AverageGrad(), Step(), LookAheadStat()],\n",
    "                   lr = 0.001, wd = 1e-02, alpha = 0.8, k= 10)\n",
    "\n",
    "wandb.init(name = 'mp_long_run_5', project = 'Caption-RTX2060',\n",
    "           entity = 'a_bhimanyu',dir = 'C:/Users/iamab/Downloads/datasets/coco');\n",
    "\n",
    "loss = FlatLoss(nn.CrossEntropyLoss(ignore_index = cap_model.pad_tok_id))"
   ]
  },
  {
   "cell_type": "code",
   "execution_count": 20,
   "metadata": {},
   "outputs": [
    {
     "data": {
      "text/plain": [
       "<All keys matched successfully>"
      ]
     },
     "execution_count": 20,
     "metadata": {},
     "output_type": "execute_result"
    }
   ],
   "source": [
    "learn = Learner(cap_model, data, loss_func= loss, opt_func=optimizer, splitter= splitter, cb_funcs=cbfs)\n",
    "\n",
    "learn.model.load_state_dict(torch.load('C:/Users/iamab/Downloads/datasets/coco/wandb/run-20200923_135426-gielchhi/files/bestmodel.pth'))"
   ]
  },
  {
   "cell_type": "code",
   "execution_count": 21,
   "metadata": {
    "scrolled": true
   },
   "outputs": [
    {
     "data": {
      "text/html": [
       "\n",
       "    <div>\n",
       "        <style>\n",
       "            /* Turns off some styling */\n",
       "            progress {\n",
       "                /* gets rid of default border in Firefox and Opera. */\n",
       "                border: none;\n",
       "                /* Needs to be in here for Safari polyfill so background images work as expected. */\n",
       "                background-size: auto;\n",
       "            }\n",
       "            .progress-bar-interrupted, .progress-bar-interrupted::-webkit-progress-bar {\n",
       "                background: #F44336;\n",
       "            }\n",
       "        </style>\n",
       "      <progress value='0' class='' max='10' style='width:300px; height:20px; vertical-align: middle;'></progress>\n",
       "      \n",
       "    </div>\n",
       "    \n"
      ],
      "text/plain": [
       "<IPython.core.display.HTML object>"
      ]
     },
     "metadata": {},
     "output_type": "display_data"
    },
    {
     "data": {
      "text/html": [
       "<table border=\"1\" class=\"dataframe\">\n",
       "  <thead>\n",
       "    <tr style=\"text-align: left;\">\n",
       "      <th>epoch</th>\n",
       "      <th>train_loss</th>\n",
       "      <th>train_cap_accuracy</th>\n",
       "      <th>valid_loss</th>\n",
       "      <th>valid_cap_accuracy</th>\n",
       "      <th>time</th>\n",
       "    </tr>\n",
       "  </thead>\n",
       "  <tbody>\n",
       "    <tr>\n",
       "      <td>0</td>\n",
       "      <td>1.865223</td>\n",
       "      <td>0.160575</td>\n",
       "      <td>2.748615</td>\n",
       "      <td>0.128202</td>\n",
       "      <td>35:32</td>\n",
       "    </tr>\n",
       "    <tr>\n",
       "      <td>1</td>\n",
       "      <td>1.928326</td>\n",
       "      <td>0.158489</td>\n",
       "      <td>2.785304</td>\n",
       "      <td>0.127312</td>\n",
       "      <td>35:35</td>\n",
       "    </tr>\n",
       "  </tbody>\n",
       "</table>"
      ],
      "text/plain": [
       "<IPython.core.display.HTML object>"
      ]
     },
     "metadata": {},
     "output_type": "display_data"
    },
    {
     "name": "stdout",
     "output_type": "stream",
     "text": [
      "Better model found at epoch 0 with valid_loss value: 3.8368473052978516.\n",
      "Saving model state at <_io.BufferedWriter name='C:\\\\Users\\\\iamab\\\\Downloads\\\\datasets\\\\coco\\\\wandb\\\\run-20200923_180229-1kpb11dx\\\\files\\\\bestmodel.pth'>\n",
      "Better model found at epoch 1 with valid_loss value: 2.5164854526519775.\n",
      "Saving model state at <_io.BufferedWriter name='C:\\\\Users\\\\iamab\\\\Downloads\\\\datasets\\\\coco\\\\wandb\\\\run-20200923_180229-1kpb11dx\\\\files\\\\bestmodel.pth'>\n",
      "Loading model state from <_io.BufferedReader name='C:\\\\Users\\\\iamab\\\\Downloads\\\\datasets\\\\coco\\\\wandb\\\\run-20200923_180229-1kpb11dx\\\\files\\\\bestmodel.pth'>\n",
      "Loaded best saved model from C:\\Users\\iamab\\Downloads\\datasets\\coco\\wandb\\run-20200923_180229-1kpb11dx\\files\\bestmodel.pth\n"
     ]
    },
    {
     "ename": "KeyboardInterrupt",
     "evalue": "",
     "output_type": "error",
     "traceback": [
      "\u001b[1;31m---------------------------------------------------------------------------\u001b[0m",
      "\u001b[1;31mKeyboardInterrupt\u001b[0m                         Traceback (most recent call last)",
      "\u001b[1;32m<ipython-input-21-fd99b3b112d7>\u001b[0m in \u001b[0;36m<module>\u001b[1;34m\u001b[0m\n\u001b[1;32m----> 1\u001b[1;33m \u001b[0mlearn\u001b[0m\u001b[1;33m.\u001b[0m\u001b[0mfit\u001b[0m\u001b[1;33m(\u001b[0m\u001b[1;36m10\u001b[0m\u001b[1;33m,\u001b[0m \u001b[0mcbs\u001b[0m \u001b[1;33m=\u001b[0m \u001b[0msched_callbacks\u001b[0m\u001b[1;33m(\u001b[0m\u001b[1;33m[\u001b[0m\u001b[1;36m0.001\u001b[0m\u001b[1;33m,\u001b[0m \u001b[1;36m0.001\u001b[0m\u001b[1;33m]\u001b[0m\u001b[1;33m,\u001b[0m \u001b[0mfracs\u001b[0m \u001b[1;33m=\u001b[0m \u001b[1;36m0.2\u001b[0m\u001b[1;33m)\u001b[0m\u001b[1;33m)\u001b[0m\u001b[1;33m\u001b[0m\u001b[1;33m\u001b[0m\u001b[0m\n\u001b[0m",
      "\u001b[1;32m~\\OneDrive\\Documents\\project\\image_caption\\learner.py\u001b[0m in \u001b[0;36mfit\u001b[1;34m(self, epochs, cbs, reset_opt)\u001b[0m\n\u001b[0;32m     72\u001b[0m             \u001b[0mself\u001b[0m\u001b[1;33m.\u001b[0m\u001b[0mdo_begin_fit\u001b[0m\u001b[1;33m(\u001b[0m\u001b[0mepochs\u001b[0m\u001b[1;33m)\u001b[0m\u001b[1;33m\u001b[0m\u001b[1;33m\u001b[0m\u001b[0m\n\u001b[0;32m     73\u001b[0m             \u001b[1;32mfor\u001b[0m \u001b[0mepoch\u001b[0m \u001b[1;32min\u001b[0m \u001b[0mrange\u001b[0m\u001b[1;33m(\u001b[0m\u001b[0mepochs\u001b[0m\u001b[1;33m)\u001b[0m\u001b[1;33m:\u001b[0m\u001b[1;33m\u001b[0m\u001b[1;33m\u001b[0m\u001b[0m\n\u001b[1;32m---> 74\u001b[1;33m                 \u001b[1;32mif\u001b[0m \u001b[1;32mnot\u001b[0m \u001b[0mself\u001b[0m\u001b[1;33m.\u001b[0m\u001b[0mdo_begin_epoch\u001b[0m\u001b[1;33m(\u001b[0m\u001b[0mepoch\u001b[0m\u001b[1;33m)\u001b[0m\u001b[1;33m:\u001b[0m \u001b[0mself\u001b[0m\u001b[1;33m.\u001b[0m\u001b[0mall_batches\u001b[0m\u001b[1;33m(\u001b[0m\u001b[1;33m)\u001b[0m\u001b[1;33m\u001b[0m\u001b[1;33m\u001b[0m\u001b[0m\n\u001b[0m\u001b[0;32m     75\u001b[0m \u001b[1;33m\u001b[0m\u001b[0m\n\u001b[0;32m     76\u001b[0m                 \u001b[1;32mwith\u001b[0m \u001b[0mtorch\u001b[0m\u001b[1;33m.\u001b[0m\u001b[0mno_grad\u001b[0m\u001b[1;33m(\u001b[0m\u001b[1;33m)\u001b[0m\u001b[1;33m:\u001b[0m\u001b[1;33m\u001b[0m\u001b[1;33m\u001b[0m\u001b[0m\n",
      "\u001b[1;32m~\\OneDrive\\Documents\\project\\image_caption\\learner.py\u001b[0m in \u001b[0;36mall_batches\u001b[1;34m(self)\u001b[0m\n\u001b[0;32m     52\u001b[0m         \u001b[0mself\u001b[0m\u001b[1;33m.\u001b[0m\u001b[0miters\u001b[0m \u001b[1;33m=\u001b[0m \u001b[0mlen\u001b[0m\u001b[1;33m(\u001b[0m\u001b[0mself\u001b[0m\u001b[1;33m.\u001b[0m\u001b[0mdl\u001b[0m\u001b[1;33m)\u001b[0m\u001b[1;33m\u001b[0m\u001b[1;33m\u001b[0m\u001b[0m\n\u001b[0;32m     53\u001b[0m         \u001b[1;32mtry\u001b[0m\u001b[1;33m:\u001b[0m\u001b[1;33m\u001b[0m\u001b[1;33m\u001b[0m\u001b[0m\n\u001b[1;32m---> 54\u001b[1;33m             \u001b[1;32mfor\u001b[0m \u001b[0mi\u001b[0m\u001b[1;33m,\u001b[0m\u001b[1;33m(\u001b[0m\u001b[0mxb\u001b[0m\u001b[1;33m,\u001b[0m\u001b[0myb\u001b[0m\u001b[1;33m)\u001b[0m \u001b[1;32min\u001b[0m \u001b[0menumerate\u001b[0m\u001b[1;33m(\u001b[0m\u001b[0mself\u001b[0m\u001b[1;33m.\u001b[0m\u001b[0mdl\u001b[0m\u001b[1;33m)\u001b[0m\u001b[1;33m:\u001b[0m \u001b[0mself\u001b[0m\u001b[1;33m.\u001b[0m\u001b[0mone_batch\u001b[0m\u001b[1;33m(\u001b[0m\u001b[0mi\u001b[0m\u001b[1;33m,\u001b[0m \u001b[0mxb\u001b[0m\u001b[1;33m,\u001b[0m \u001b[0myb\u001b[0m\u001b[1;33m)\u001b[0m\u001b[1;33m\u001b[0m\u001b[1;33m\u001b[0m\u001b[0m\n\u001b[0m\u001b[0;32m     55\u001b[0m         \u001b[1;32mexcept\u001b[0m \u001b[0mCancelEpochException\u001b[0m\u001b[1;33m:\u001b[0m \u001b[0mself\u001b[0m\u001b[1;33m(\u001b[0m\u001b[1;34m'after_cancel_epoch'\u001b[0m\u001b[1;33m)\u001b[0m\u001b[1;33m\u001b[0m\u001b[1;33m\u001b[0m\u001b[0m\n\u001b[0;32m     56\u001b[0m \u001b[1;33m\u001b[0m\u001b[0m\n",
      "\u001b[1;32m~\\anaconda3\\lib\\site-packages\\torch\\utils\\data\\dataloader.py\u001b[0m in \u001b[0;36m__next__\u001b[1;34m(self)\u001b[0m\n\u001b[0;32m    361\u001b[0m \u001b[1;33m\u001b[0m\u001b[0m\n\u001b[0;32m    362\u001b[0m     \u001b[1;32mdef\u001b[0m \u001b[0m__next__\u001b[0m\u001b[1;33m(\u001b[0m\u001b[0mself\u001b[0m\u001b[1;33m)\u001b[0m\u001b[1;33m:\u001b[0m\u001b[1;33m\u001b[0m\u001b[1;33m\u001b[0m\u001b[0m\n\u001b[1;32m--> 363\u001b[1;33m         \u001b[0mdata\u001b[0m \u001b[1;33m=\u001b[0m \u001b[0mself\u001b[0m\u001b[1;33m.\u001b[0m\u001b[0m_next_data\u001b[0m\u001b[1;33m(\u001b[0m\u001b[1;33m)\u001b[0m\u001b[1;33m\u001b[0m\u001b[1;33m\u001b[0m\u001b[0m\n\u001b[0m\u001b[0;32m    364\u001b[0m         \u001b[0mself\u001b[0m\u001b[1;33m.\u001b[0m\u001b[0m_num_yielded\u001b[0m \u001b[1;33m+=\u001b[0m \u001b[1;36m1\u001b[0m\u001b[1;33m\u001b[0m\u001b[1;33m\u001b[0m\u001b[0m\n\u001b[0;32m    365\u001b[0m         \u001b[1;32mif\u001b[0m \u001b[0mself\u001b[0m\u001b[1;33m.\u001b[0m\u001b[0m_dataset_kind\u001b[0m \u001b[1;33m==\u001b[0m \u001b[0m_DatasetKind\u001b[0m\u001b[1;33m.\u001b[0m\u001b[0mIterable\u001b[0m \u001b[1;32mand\u001b[0m\u001b[0;31m \u001b[0m\u001b[0;31m\\\u001b[0m\u001b[1;33m\u001b[0m\u001b[1;33m\u001b[0m\u001b[0m\n",
      "\u001b[1;32m~\\anaconda3\\lib\\site-packages\\torch\\utils\\data\\dataloader.py\u001b[0m in \u001b[0;36m_next_data\u001b[1;34m(self)\u001b[0m\n\u001b[0;32m    401\u001b[0m     \u001b[1;32mdef\u001b[0m \u001b[0m_next_data\u001b[0m\u001b[1;33m(\u001b[0m\u001b[0mself\u001b[0m\u001b[1;33m)\u001b[0m\u001b[1;33m:\u001b[0m\u001b[1;33m\u001b[0m\u001b[1;33m\u001b[0m\u001b[0m\n\u001b[0;32m    402\u001b[0m         \u001b[0mindex\u001b[0m \u001b[1;33m=\u001b[0m \u001b[0mself\u001b[0m\u001b[1;33m.\u001b[0m\u001b[0m_next_index\u001b[0m\u001b[1;33m(\u001b[0m\u001b[1;33m)\u001b[0m  \u001b[1;31m# may raise StopIteration\u001b[0m\u001b[1;33m\u001b[0m\u001b[1;33m\u001b[0m\u001b[0m\n\u001b[1;32m--> 403\u001b[1;33m         \u001b[0mdata\u001b[0m \u001b[1;33m=\u001b[0m \u001b[0mself\u001b[0m\u001b[1;33m.\u001b[0m\u001b[0m_dataset_fetcher\u001b[0m\u001b[1;33m.\u001b[0m\u001b[0mfetch\u001b[0m\u001b[1;33m(\u001b[0m\u001b[0mindex\u001b[0m\u001b[1;33m)\u001b[0m  \u001b[1;31m# may raise StopIteration\u001b[0m\u001b[1;33m\u001b[0m\u001b[1;33m\u001b[0m\u001b[0m\n\u001b[0m\u001b[0;32m    404\u001b[0m         \u001b[1;32mif\u001b[0m \u001b[0mself\u001b[0m\u001b[1;33m.\u001b[0m\u001b[0m_pin_memory\u001b[0m\u001b[1;33m:\u001b[0m\u001b[1;33m\u001b[0m\u001b[1;33m\u001b[0m\u001b[0m\n\u001b[0;32m    405\u001b[0m             \u001b[0mdata\u001b[0m \u001b[1;33m=\u001b[0m \u001b[0m_utils\u001b[0m\u001b[1;33m.\u001b[0m\u001b[0mpin_memory\u001b[0m\u001b[1;33m.\u001b[0m\u001b[0mpin_memory\u001b[0m\u001b[1;33m(\u001b[0m\u001b[0mdata\u001b[0m\u001b[1;33m)\u001b[0m\u001b[1;33m\u001b[0m\u001b[1;33m\u001b[0m\u001b[0m\n",
      "\u001b[1;32m~\\anaconda3\\lib\\site-packages\\torch\\utils\\data\\_utils\\fetch.py\u001b[0m in \u001b[0;36mfetch\u001b[1;34m(self, possibly_batched_index)\u001b[0m\n\u001b[0;32m     42\u001b[0m     \u001b[1;32mdef\u001b[0m \u001b[0mfetch\u001b[0m\u001b[1;33m(\u001b[0m\u001b[0mself\u001b[0m\u001b[1;33m,\u001b[0m \u001b[0mpossibly_batched_index\u001b[0m\u001b[1;33m)\u001b[0m\u001b[1;33m:\u001b[0m\u001b[1;33m\u001b[0m\u001b[1;33m\u001b[0m\u001b[0m\n\u001b[0;32m     43\u001b[0m         \u001b[1;32mif\u001b[0m \u001b[0mself\u001b[0m\u001b[1;33m.\u001b[0m\u001b[0mauto_collation\u001b[0m\u001b[1;33m:\u001b[0m\u001b[1;33m\u001b[0m\u001b[1;33m\u001b[0m\u001b[0m\n\u001b[1;32m---> 44\u001b[1;33m             \u001b[0mdata\u001b[0m \u001b[1;33m=\u001b[0m \u001b[1;33m[\u001b[0m\u001b[0mself\u001b[0m\u001b[1;33m.\u001b[0m\u001b[0mdataset\u001b[0m\u001b[1;33m[\u001b[0m\u001b[0midx\u001b[0m\u001b[1;33m]\u001b[0m \u001b[1;32mfor\u001b[0m \u001b[0midx\u001b[0m \u001b[1;32min\u001b[0m \u001b[0mpossibly_batched_index\u001b[0m\u001b[1;33m]\u001b[0m\u001b[1;33m\u001b[0m\u001b[1;33m\u001b[0m\u001b[0m\n\u001b[0m\u001b[0;32m     45\u001b[0m         \u001b[1;32melse\u001b[0m\u001b[1;33m:\u001b[0m\u001b[1;33m\u001b[0m\u001b[1;33m\u001b[0m\u001b[0m\n\u001b[0;32m     46\u001b[0m             \u001b[0mdata\u001b[0m \u001b[1;33m=\u001b[0m \u001b[0mself\u001b[0m\u001b[1;33m.\u001b[0m\u001b[0mdataset\u001b[0m\u001b[1;33m[\u001b[0m\u001b[0mpossibly_batched_index\u001b[0m\u001b[1;33m]\u001b[0m\u001b[1;33m\u001b[0m\u001b[1;33m\u001b[0m\u001b[0m\n",
      "\u001b[1;32m~\\anaconda3\\lib\\site-packages\\torch\\utils\\data\\_utils\\fetch.py\u001b[0m in \u001b[0;36m<listcomp>\u001b[1;34m(.0)\u001b[0m\n\u001b[0;32m     42\u001b[0m     \u001b[1;32mdef\u001b[0m \u001b[0mfetch\u001b[0m\u001b[1;33m(\u001b[0m\u001b[0mself\u001b[0m\u001b[1;33m,\u001b[0m \u001b[0mpossibly_batched_index\u001b[0m\u001b[1;33m)\u001b[0m\u001b[1;33m:\u001b[0m\u001b[1;33m\u001b[0m\u001b[1;33m\u001b[0m\u001b[0m\n\u001b[0;32m     43\u001b[0m         \u001b[1;32mif\u001b[0m \u001b[0mself\u001b[0m\u001b[1;33m.\u001b[0m\u001b[0mauto_collation\u001b[0m\u001b[1;33m:\u001b[0m\u001b[1;33m\u001b[0m\u001b[1;33m\u001b[0m\u001b[0m\n\u001b[1;32m---> 44\u001b[1;33m             \u001b[0mdata\u001b[0m \u001b[1;33m=\u001b[0m \u001b[1;33m[\u001b[0m\u001b[0mself\u001b[0m\u001b[1;33m.\u001b[0m\u001b[0mdataset\u001b[0m\u001b[1;33m[\u001b[0m\u001b[0midx\u001b[0m\u001b[1;33m]\u001b[0m \u001b[1;32mfor\u001b[0m \u001b[0midx\u001b[0m \u001b[1;32min\u001b[0m \u001b[0mpossibly_batched_index\u001b[0m\u001b[1;33m]\u001b[0m\u001b[1;33m\u001b[0m\u001b[1;33m\u001b[0m\u001b[0m\n\u001b[0m\u001b[0;32m     45\u001b[0m         \u001b[1;32melse\u001b[0m\u001b[1;33m:\u001b[0m\u001b[1;33m\u001b[0m\u001b[1;33m\u001b[0m\u001b[0m\n\u001b[0;32m     46\u001b[0m             \u001b[0mdata\u001b[0m \u001b[1;33m=\u001b[0m \u001b[0mself\u001b[0m\u001b[1;33m.\u001b[0m\u001b[0mdataset\u001b[0m\u001b[1;33m[\u001b[0m\u001b[0mpossibly_batched_index\u001b[0m\u001b[1;33m]\u001b[0m\u001b[1;33m\u001b[0m\u001b[1;33m\u001b[0m\u001b[0m\n",
      "\u001b[1;32m~\\OneDrive\\Documents\\project\\image_caption\\data_block.py\u001b[0m in \u001b[0;36m__getitem__\u001b[1;34m(self, i)\u001b[0m\n\u001b[0;32m    130\u001b[0m         \u001b[0mself\u001b[0m\u001b[1;33m.\u001b[0m\u001b[0mpx\u001b[0m\u001b[1;33m,\u001b[0m\u001b[0mself\u001b[0m\u001b[1;33m.\u001b[0m\u001b[0mpy\u001b[0m \u001b[1;33m=\u001b[0m \u001b[0mproc_x\u001b[0m\u001b[1;33m,\u001b[0m \u001b[0mproc_y\u001b[0m\u001b[1;33m\u001b[0m\u001b[1;33m\u001b[0m\u001b[0m\n\u001b[0;32m    131\u001b[0m \u001b[1;33m\u001b[0m\u001b[0m\n\u001b[1;32m--> 132\u001b[1;33m     \u001b[1;32mdef\u001b[0m \u001b[0m__getitem__\u001b[0m\u001b[1;33m(\u001b[0m\u001b[0mself\u001b[0m\u001b[1;33m,\u001b[0m\u001b[0mi\u001b[0m\u001b[1;33m)\u001b[0m\u001b[1;33m:\u001b[0m\u001b[1;32mreturn\u001b[0m \u001b[0mself\u001b[0m\u001b[1;33m.\u001b[0m\u001b[0mx\u001b[0m\u001b[1;33m[\u001b[0m\u001b[0mi\u001b[0m\u001b[1;33m]\u001b[0m\u001b[1;33m,\u001b[0m\u001b[0mself\u001b[0m\u001b[1;33m.\u001b[0m\u001b[0my\u001b[0m\u001b[1;33m[\u001b[0m\u001b[0mi\u001b[0m\u001b[1;33m]\u001b[0m\u001b[1;33m\u001b[0m\u001b[1;33m\u001b[0m\u001b[0m\n\u001b[0m\u001b[0;32m    133\u001b[0m \u001b[1;33m\u001b[0m\u001b[0m\n\u001b[0;32m    134\u001b[0m     \u001b[1;32mdef\u001b[0m \u001b[0m__repr__\u001b[0m\u001b[1;33m(\u001b[0m\u001b[0mself\u001b[0m\u001b[1;33m)\u001b[0m\u001b[1;33m:\u001b[0m \u001b[1;32mreturn\u001b[0m \u001b[1;34mf'{self.__class__.__name__}\\nx: {self.x}\\ny: {self.y}\\n'\u001b[0m\u001b[1;33m\u001b[0m\u001b[1;33m\u001b[0m\u001b[0m\n",
      "\u001b[1;32m~\\OneDrive\\Documents\\project\\image_caption\\data_block.py\u001b[0m in \u001b[0;36m__getitem__\u001b[1;34m(self, i)\u001b[0m\n\u001b[0;32m     51\u001b[0m         \u001b[0mres\u001b[0m \u001b[1;33m=\u001b[0m \u001b[0msuper\u001b[0m\u001b[1;33m(\u001b[0m\u001b[1;33m)\u001b[0m\u001b[1;33m.\u001b[0m\u001b[0m__getitem__\u001b[0m\u001b[1;33m(\u001b[0m\u001b[0mi\u001b[0m\u001b[1;33m)\u001b[0m\u001b[1;33m\u001b[0m\u001b[1;33m\u001b[0m\u001b[0m\n\u001b[0;32m     52\u001b[0m         \u001b[1;32mif\u001b[0m \u001b[0misinstance\u001b[0m\u001b[1;33m(\u001b[0m\u001b[0mres\u001b[0m\u001b[1;33m,\u001b[0m\u001b[0mlist\u001b[0m\u001b[1;33m)\u001b[0m\u001b[1;33m:\u001b[0m \u001b[1;32mreturn\u001b[0m \u001b[1;33m[\u001b[0m\u001b[0mself\u001b[0m\u001b[1;33m.\u001b[0m\u001b[0mcomp\u001b[0m\u001b[1;33m(\u001b[0m\u001b[0mo\u001b[0m\u001b[1;33m)\u001b[0m \u001b[1;32mfor\u001b[0m \u001b[0mo\u001b[0m \u001b[1;32min\u001b[0m \u001b[0mres\u001b[0m\u001b[1;33m]\u001b[0m\u001b[1;33m\u001b[0m\u001b[1;33m\u001b[0m\u001b[0m\n\u001b[1;32m---> 53\u001b[1;33m         \u001b[1;32mreturn\u001b[0m \u001b[0mself\u001b[0m\u001b[1;33m.\u001b[0m\u001b[0mcomp\u001b[0m\u001b[1;33m(\u001b[0m\u001b[0mres\u001b[0m\u001b[1;33m)\u001b[0m\u001b[1;33m\u001b[0m\u001b[1;33m\u001b[0m\u001b[0m\n\u001b[0m\u001b[0;32m     54\u001b[0m \u001b[1;33m\u001b[0m\u001b[0m\n\u001b[0;32m     55\u001b[0m \u001b[1;33m\u001b[0m\u001b[0m\n",
      "\u001b[1;32m~\\OneDrive\\Documents\\project\\image_caption\\data_block.py\u001b[0m in \u001b[0;36mcomp\u001b[1;34m(self, o)\u001b[0m\n\u001b[0;32m     46\u001b[0m     \u001b[1;32mdef\u001b[0m \u001b[0mget\u001b[0m\u001b[1;33m(\u001b[0m\u001b[0mself\u001b[0m\u001b[1;33m,\u001b[0m\u001b[0mo\u001b[0m\u001b[1;33m)\u001b[0m\u001b[1;33m:\u001b[0m \u001b[1;32mreturn\u001b[0m \u001b[0mo\u001b[0m\u001b[1;33m\u001b[0m\u001b[1;33m\u001b[0m\u001b[0m\n\u001b[0;32m     47\u001b[0m \u001b[1;33m\u001b[0m\u001b[0m\n\u001b[1;32m---> 48\u001b[1;33m     \u001b[1;32mdef\u001b[0m \u001b[0mcomp\u001b[0m\u001b[1;33m(\u001b[0m\u001b[0mself\u001b[0m\u001b[1;33m,\u001b[0m\u001b[0mo\u001b[0m\u001b[1;33m)\u001b[0m\u001b[1;33m:\u001b[0m \u001b[1;32mreturn\u001b[0m \u001b[0mcompose\u001b[0m\u001b[1;33m(\u001b[0m\u001b[0mself\u001b[0m\u001b[1;33m.\u001b[0m\u001b[0mget\u001b[0m\u001b[1;33m(\u001b[0m\u001b[0mo\u001b[0m\u001b[1;33m)\u001b[0m\u001b[1;33m,\u001b[0m \u001b[0mself\u001b[0m\u001b[1;33m.\u001b[0m\u001b[0mtfs\u001b[0m\u001b[1;33m)\u001b[0m\u001b[1;33m\u001b[0m\u001b[1;33m\u001b[0m\u001b[0m\n\u001b[0m\u001b[0;32m     49\u001b[0m \u001b[1;33m\u001b[0m\u001b[0m\n\u001b[0;32m     50\u001b[0m     \u001b[1;32mdef\u001b[0m \u001b[0m__getitem__\u001b[0m\u001b[1;33m(\u001b[0m\u001b[0mself\u001b[0m\u001b[1;33m,\u001b[0m\u001b[0mi\u001b[0m\u001b[1;33m)\u001b[0m\u001b[1;33m:\u001b[0m\u001b[1;33m\u001b[0m\u001b[1;33m\u001b[0m\u001b[0m\n",
      "\u001b[1;32m~\\OneDrive\\Documents\\project\\image_caption\\utils.py\u001b[0m in \u001b[0;36mcompose\u001b[1;34m(x, funcs, order_key, **kwargs)\u001b[0m\n\u001b[0;32m      9\u001b[0m     \u001b[1;32mif\u001b[0m \u001b[0mfuncs\u001b[0m \u001b[1;32mis\u001b[0m \u001b[1;32mNone\u001b[0m\u001b[1;33m:\u001b[0m \u001b[1;32mreturn\u001b[0m \u001b[0mx\u001b[0m\u001b[1;33m\u001b[0m\u001b[1;33m\u001b[0m\u001b[0m\n\u001b[0;32m     10\u001b[0m     \u001b[0mfuncs\u001b[0m \u001b[1;33m=\u001b[0m \u001b[0mlistify\u001b[0m\u001b[1;33m(\u001b[0m\u001b[0mfuncs\u001b[0m\u001b[1;33m)\u001b[0m\u001b[1;33m\u001b[0m\u001b[1;33m\u001b[0m\u001b[0m\n\u001b[1;32m---> 11\u001b[1;33m     \u001b[1;32mfor\u001b[0m \u001b[0mf\u001b[0m \u001b[1;32min\u001b[0m \u001b[0msorted\u001b[0m\u001b[1;33m(\u001b[0m\u001b[0mfuncs\u001b[0m\u001b[1;33m,\u001b[0m \u001b[0mkey\u001b[0m \u001b[1;33m=\u001b[0m \u001b[1;32mlambda\u001b[0m \u001b[0mi\u001b[0m\u001b[1;33m:\u001b[0m \u001b[0mgetattr\u001b[0m\u001b[1;33m(\u001b[0m\u001b[0mi\u001b[0m\u001b[1;33m,\u001b[0m\u001b[0morder_key\u001b[0m\u001b[1;33m,\u001b[0m\u001b[1;36m0\u001b[0m\u001b[1;33m)\u001b[0m\u001b[1;33m)\u001b[0m\u001b[1;33m:\u001b[0m \u001b[0mx\u001b[0m \u001b[1;33m=\u001b[0m \u001b[0mf\u001b[0m\u001b[1;33m(\u001b[0m\u001b[0mx\u001b[0m\u001b[1;33m,\u001b[0m \u001b[1;33m**\u001b[0m\u001b[0mkwargs\u001b[0m\u001b[1;33m)\u001b[0m\u001b[1;33m\u001b[0m\u001b[1;33m\u001b[0m\u001b[0m\n\u001b[0m\u001b[0;32m     12\u001b[0m     \u001b[1;32mreturn\u001b[0m \u001b[0mx\u001b[0m\u001b[1;33m\u001b[0m\u001b[1;33m\u001b[0m\u001b[0m\n\u001b[0;32m     13\u001b[0m \u001b[1;33m\u001b[0m\u001b[0m\n",
      "\u001b[1;32m~\\OneDrive\\Documents\\project\\image_caption\\transforms.py\u001b[0m in \u001b[0;36m__call__\u001b[1;34m(self, item)\u001b[0m\n\u001b[0;32m     16\u001b[0m         \u001b[0mself\u001b[0m\u001b[1;33m.\u001b[0m\u001b[0msize\u001b[0m \u001b[1;33m=\u001b[0m \u001b[0msize\u001b[0m\u001b[1;33m\u001b[0m\u001b[1;33m\u001b[0m\u001b[0m\n\u001b[0;32m     17\u001b[0m \u001b[1;33m\u001b[0m\u001b[0m\n\u001b[1;32m---> 18\u001b[1;33m     \u001b[1;32mdef\u001b[0m \u001b[0m__call__\u001b[0m\u001b[1;33m(\u001b[0m\u001b[0mself\u001b[0m\u001b[1;33m,\u001b[0m \u001b[0mitem\u001b[0m\u001b[1;33m)\u001b[0m\u001b[1;33m:\u001b[0m \u001b[1;32mreturn\u001b[0m \u001b[0mitem\u001b[0m\u001b[1;33m.\u001b[0m\u001b[0mresize\u001b[0m\u001b[1;33m(\u001b[0m\u001b[0mself\u001b[0m\u001b[1;33m.\u001b[0m\u001b[0msize\u001b[0m\u001b[1;33m,\u001b[0m \u001b[0mPIL\u001b[0m\u001b[1;33m.\u001b[0m\u001b[0mImage\u001b[0m\u001b[1;33m.\u001b[0m\u001b[0mBILINEAR\u001b[0m\u001b[1;33m)\u001b[0m\u001b[1;33m\u001b[0m\u001b[1;33m\u001b[0m\u001b[0m\n\u001b[0m\u001b[0;32m     19\u001b[0m \u001b[1;33m\u001b[0m\u001b[0m\n\u001b[0;32m     20\u001b[0m \u001b[1;33m\u001b[0m\u001b[0m\n",
      "\u001b[1;32m~\\anaconda3\\lib\\site-packages\\PIL\\Image.py\u001b[0m in \u001b[0;36mresize\u001b[1;34m(self, size, resample, box, reducing_gap)\u001b[0m\n\u001b[0;32m   1927\u001b[0m                 )\n\u001b[0;32m   1928\u001b[0m \u001b[1;33m\u001b[0m\u001b[0m\n\u001b[1;32m-> 1929\u001b[1;33m         \u001b[1;32mreturn\u001b[0m \u001b[0mself\u001b[0m\u001b[1;33m.\u001b[0m\u001b[0m_new\u001b[0m\u001b[1;33m(\u001b[0m\u001b[0mself\u001b[0m\u001b[1;33m.\u001b[0m\u001b[0mim\u001b[0m\u001b[1;33m.\u001b[0m\u001b[0mresize\u001b[0m\u001b[1;33m(\u001b[0m\u001b[0msize\u001b[0m\u001b[1;33m,\u001b[0m \u001b[0mresample\u001b[0m\u001b[1;33m,\u001b[0m \u001b[0mbox\u001b[0m\u001b[1;33m)\u001b[0m\u001b[1;33m)\u001b[0m\u001b[1;33m\u001b[0m\u001b[1;33m\u001b[0m\u001b[0m\n\u001b[0m\u001b[0;32m   1930\u001b[0m \u001b[1;33m\u001b[0m\u001b[0m\n\u001b[0;32m   1931\u001b[0m     \u001b[1;32mdef\u001b[0m \u001b[0mreduce\u001b[0m\u001b[1;33m(\u001b[0m\u001b[0mself\u001b[0m\u001b[1;33m,\u001b[0m \u001b[0mfactor\u001b[0m\u001b[1;33m,\u001b[0m \u001b[0mbox\u001b[0m\u001b[1;33m=\u001b[0m\u001b[1;32mNone\u001b[0m\u001b[1;33m)\u001b[0m\u001b[1;33m:\u001b[0m\u001b[1;33m\u001b[0m\u001b[1;33m\u001b[0m\u001b[0m\n",
      "\u001b[1;31mKeyboardInterrupt\u001b[0m: "
     ]
    }
   ],
   "source": [
    "learn.fit(10, cbs = sched_callbacks([0.001, 0.001], fracs = 0.2))"
   ]
  },
  {
   "cell_type": "code",
   "execution_count": 20,
   "metadata": {},
   "outputs": [],
   "source": [
    "def extend_model(learn, N = 2, name = 'run-20200923_135426-gielchhi', load_before = True,extend = True):\n",
    "    if load_before:\n",
    "        learn.model.load_state_dict(torch.load('C:/Users/iamab/Downloads/datasets/coco/wandb/' + name+ '/files/bestmodel.pth'))\n",
    "    if not extend: return learn\n",
    "    extension = Xcoder(dec = True, N=N)\n",
    "    learn.model.th = Extension(prev = learn.model.th, ext = extension)\n",
    "    if not load_before:\n",
    "        learn.model.load_state_dict(torch.load('C:/Users/iamab/Downloads/datasets/coco/wandb/' + name+ '/files/bestmodel.pth'))\n",
    "    return learn\n",
    "    "
   ]
  },
  {
   "cell_type": "code",
   "execution_count": 21,
   "metadata": {},
   "outputs": [],
   "source": [
    "class Extension(nn.Module):\n",
    "    def __init__(self,prev,ext):\n",
    "        super().__init__()\n",
    "        self.prev,self.ext = prev,ext\n",
    "        \n",
    "    def forward(self,x,*args, mask_in = None,mask_out = None):\n",
    "        x = self.prev(x,*args, mask_in = None,mask_out = None)\n",
    "        x = self.ext(x,*args, mask_in = None,mask_out = None)\n",
    "        return x"
   ]
  },
  {
   "cell_type": "code",
   "execution_count": 22,
   "metadata": {},
   "outputs": [],
   "source": [
    "cbfs = [CudaCapCallback, partial(AvgStatsCallback, cap_accuracy, AvgStatsCap), \n",
    "        ProgressCallback, \n",
    "        normalise_callback(data, normalise_func= cap_normalise, use_imagenet_stats=True), \n",
    "        NewRecorderCallback]"
   ]
  },
  {
   "cell_type": "code",
   "execution_count": 23,
   "metadata": {},
   "outputs": [],
   "source": [
    "optimizer = partial(StatefulOptimizer,\n",
    "                    steppers = [momentum_step, weight_decay,lookahead_step],\n",
    "                   stats = [AverageGrad(), Step(), LookAheadStat()],\n",
    "                   lr = 0.001, wd = 1e-02, alpha = 0.8, k= 10)\n",
    "\n",
    "# wandb.init(name = 'mp_long_run_7', project = 'Caption-RTX2060',\n",
    "#            entity = 'a_bhimanyu',dir = 'C:/Users/iamab/Downloads/datasets/coco');\n",
    "\n",
    "loss = FlatLoss(nn.CrossEntropyLoss(ignore_index = cap_model.pad_tok_id))"
   ]
  },
  {
   "cell_type": "code",
   "execution_count": 24,
   "metadata": {},
   "outputs": [],
   "source": [
    "def splitter(model):\n",
    "    g1,g2,g3 = [],[],[]\n",
    "    g1 = list(model.visual_backbone.parameters())\n",
    "    g2 = list(model.th.prev.parameters())+list(model.lin_projection.parameters())+ list(model.embed.parameters()) + list(model.pos_enc.parameters()) + list(model.lin_out.parameters())\n",
    "    g3 = list(model.th.ext.parameters())\n",
    "    return g1,g2,g3"
   ]
  },
  {
   "cell_type": "code",
   "execution_count": 25,
   "metadata": {},
   "outputs": [],
   "source": [
    "learn = Learner(cap_model, data, loss_func= loss, opt_func=optimizer, splitter= splitter, cb_funcs=cbfs)"
   ]
  },
  {
   "cell_type": "code",
   "execution_count": 26,
   "metadata": {},
   "outputs": [],
   "source": [
    "learn = extend_model(learn, name='run-20200924_113024-r6socbfq', load_before=False)"
   ]
  },
  {
   "cell_type": "code",
   "execution_count": 21,
   "metadata": {},
   "outputs": [
    {
     "data": {
      "text/html": [
       "\n",
       "    <div>\n",
       "        <style>\n",
       "            /* Turns off some styling */\n",
       "            progress {\n",
       "                /* gets rid of default border in Firefox and Opera. */\n",
       "                border: none;\n",
       "                /* Needs to be in here for Safari polyfill so background images work as expected. */\n",
       "                background-size: auto;\n",
       "            }\n",
       "            .progress-bar-interrupted, .progress-bar-interrupted::-webkit-progress-bar {\n",
       "                background: #F44336;\n",
       "            }\n",
       "        </style>\n",
       "      <progress value='0' class='' max='20' style='width:300px; height:20px; vertical-align: middle;'></progress>\n",
       "      \n",
       "    </div>\n",
       "    \n"
      ],
      "text/plain": [
       "<IPython.core.display.HTML object>"
      ]
     },
     "metadata": {},
     "output_type": "display_data"
    },
    {
     "data": {
      "text/html": [
       "<table border=\"1\" class=\"dataframe\">\n",
       "  <thead>\n",
       "    <tr style=\"text-align: left;\">\n",
       "      <th>epoch</th>\n",
       "      <th>train_loss</th>\n",
       "      <th>train_cap_accuracy</th>\n",
       "      <th>valid_loss</th>\n",
       "      <th>valid_cap_accuracy</th>\n",
       "      <th>time</th>\n",
       "    </tr>\n",
       "  </thead>\n",
       "  <tbody>\n",
       "    <tr>\n",
       "      <td>0</td>\n",
       "      <td>1.836437</td>\n",
       "      <td>0.204068</td>\n",
       "      <td>1.744361</td>\n",
       "      <td>0.207119</td>\n",
       "      <td>36:40</td>\n",
       "    </tr>\n",
       "    <tr>\n",
       "      <td>1</td>\n",
       "      <td>1.813144</td>\n",
       "      <td>0.205216</td>\n",
       "      <td>1.682592</td>\n",
       "      <td>0.210337</td>\n",
       "      <td>36:50</td>\n",
       "    </tr>\n",
       "    <tr>\n",
       "      <td>2</td>\n",
       "      <td>1.744174</td>\n",
       "      <td>0.207697</td>\n",
       "      <td>1.576831</td>\n",
       "      <td>0.214462</td>\n",
       "      <td>36:57</td>\n",
       "    </tr>\n",
       "    <tr>\n",
       "      <td>3</td>\n",
       "      <td>1.624966</td>\n",
       "      <td>0.212128</td>\n",
       "      <td>1.439844</td>\n",
       "      <td>0.219496</td>\n",
       "      <td>37:15</td>\n",
       "    </tr>\n",
       "    <tr>\n",
       "      <td>4</td>\n",
       "      <td>1.512240</td>\n",
       "      <td>0.216393</td>\n",
       "      <td>1.341718</td>\n",
       "      <td>0.223636</td>\n",
       "      <td>37:33</td>\n",
       "    </tr>\n",
       "    <tr>\n",
       "      <td>5</td>\n",
       "      <td>1.403137</td>\n",
       "      <td>0.220706</td>\n",
       "      <td>1.260101</td>\n",
       "      <td>0.226533</td>\n",
       "      <td>37:31</td>\n",
       "    </tr>\n",
       "    <tr>\n",
       "      <td>6</td>\n",
       "      <td>1.328070</td>\n",
       "      <td>0.223729</td>\n",
       "      <td>1.211529</td>\n",
       "      <td>0.229528</td>\n",
       "      <td>37:41</td>\n",
       "    </tr>\n",
       "    <tr>\n",
       "      <td>7</td>\n",
       "      <td>1.266243</td>\n",
       "      <td>0.226111</td>\n",
       "      <td>1.170496</td>\n",
       "      <td>0.230501</td>\n",
       "      <td>37:49</td>\n",
       "    </tr>\n",
       "    <tr>\n",
       "      <td>8</td>\n",
       "      <td>1.219391</td>\n",
       "      <td>0.227899</td>\n",
       "      <td>1.125838</td>\n",
       "      <td>0.232218</td>\n",
       "      <td>38:09</td>\n",
       "    </tr>\n",
       "    <tr>\n",
       "      <td>9</td>\n",
       "      <td>1.177189</td>\n",
       "      <td>0.229419</td>\n",
       "      <td>1.089502</td>\n",
       "      <td>0.233818</td>\n",
       "      <td>38:11</td>\n",
       "    </tr>\n",
       "    <tr>\n",
       "      <td>10</td>\n",
       "      <td>1.145345</td>\n",
       "      <td>0.230501</td>\n",
       "      <td>1.047190</td>\n",
       "      <td>0.234554</td>\n",
       "      <td>38:16</td>\n",
       "    </tr>\n",
       "    <tr>\n",
       "      <td>11</td>\n",
       "      <td>1.114852</td>\n",
       "      <td>0.231433</td>\n",
       "      <td>1.037881</td>\n",
       "      <td>0.235223</td>\n",
       "      <td>38:20</td>\n",
       "    </tr>\n",
       "    <tr>\n",
       "      <td>12</td>\n",
       "      <td>1.088875</td>\n",
       "      <td>0.232302</td>\n",
       "      <td>1.009588</td>\n",
       "      <td>0.236113</td>\n",
       "      <td>38:40</td>\n",
       "    </tr>\n",
       "    <tr>\n",
       "      <td>13</td>\n",
       "      <td>1.065912</td>\n",
       "      <td>0.233109</td>\n",
       "      <td>0.988618</td>\n",
       "      <td>0.236520</td>\n",
       "      <td>38:54</td>\n",
       "    </tr>\n",
       "    <tr>\n",
       "      <td>14</td>\n",
       "      <td>1.047863</td>\n",
       "      <td>0.233715</td>\n",
       "      <td>0.968148</td>\n",
       "      <td>0.237180</td>\n",
       "      <td>38:59</td>\n",
       "    </tr>\n",
       "    <tr>\n",
       "      <td>15</td>\n",
       "      <td>1.032460</td>\n",
       "      <td>0.234256</td>\n",
       "      <td>0.974762</td>\n",
       "      <td>0.237225</td>\n",
       "      <td>39:13</td>\n",
       "    </tr>\n",
       "    <tr>\n",
       "      <td>16</td>\n",
       "      <td>1.020520</td>\n",
       "      <td>0.234648</td>\n",
       "      <td>0.953293</td>\n",
       "      <td>0.237768</td>\n",
       "      <td>39:27</td>\n",
       "    </tr>\n",
       "    <tr>\n",
       "      <td>17</td>\n",
       "      <td>1.009867</td>\n",
       "      <td>0.235017</td>\n",
       "      <td>0.944405</td>\n",
       "      <td>0.238126</td>\n",
       "      <td>39:44</td>\n",
       "    </tr>\n",
       "    <tr>\n",
       "      <td>18</td>\n",
       "      <td>1.002292</td>\n",
       "      <td>0.235278</td>\n",
       "      <td>0.943319</td>\n",
       "      <td>0.238202</td>\n",
       "      <td>39:58</td>\n",
       "    </tr>\n",
       "    <tr>\n",
       "      <td>19</td>\n",
       "      <td>0.996288</td>\n",
       "      <td>0.235504</td>\n",
       "      <td>0.938477</td>\n",
       "      <td>0.238308</td>\n",
       "      <td>39:36</td>\n",
       "    </tr>\n",
       "  </tbody>\n",
       "</table>"
      ],
      "text/plain": [
       "<IPython.core.display.HTML object>"
      ]
     },
     "metadata": {},
     "output_type": "display_data"
    },
    {
     "name": "stdout",
     "output_type": "stream",
     "text": [
      "Better model found at epoch 0 with valid_loss value: 1.842522144317627.\n",
      "Saving model state at <_io.BufferedWriter name='C:\\\\Users\\\\iamab\\\\Downloads\\\\datasets\\\\coco\\\\wandb\\\\run-20200924_113024-r6socbfq\\\\files\\\\bestmodel.pth'>\n",
      "Better model found at epoch 1 with valid_loss value: 1.536267876625061.\n",
      "Saving model state at <_io.BufferedWriter name='C:\\\\Users\\\\iamab\\\\Downloads\\\\datasets\\\\coco\\\\wandb\\\\run-20200924_113024-r6socbfq\\\\files\\\\bestmodel.pth'>\n",
      "Better model found at epoch 5 with valid_loss value: 1.143515706062317.\n",
      "Saving model state at <_io.BufferedWriter name='C:\\\\Users\\\\iamab\\\\Downloads\\\\datasets\\\\coco\\\\wandb\\\\run-20200924_113024-r6socbfq\\\\files\\\\bestmodel.pth'>\n",
      "Better model found at epoch 6 with valid_loss value: 0.9001848101615906.\n",
      "Saving model state at <_io.BufferedWriter name='C:\\\\Users\\\\iamab\\\\Downloads\\\\datasets\\\\coco\\\\wandb\\\\run-20200924_113024-r6socbfq\\\\files\\\\bestmodel.pth'>\n",
      "Better model found at epoch 9 with valid_loss value: 0.6110919713973999.\n",
      "Saving model state at <_io.BufferedWriter name='C:\\\\Users\\\\iamab\\\\Downloads\\\\datasets\\\\coco\\\\wandb\\\\run-20200924_113024-r6socbfq\\\\files\\\\bestmodel.pth'>\n",
      "Better model found at epoch 16 with valid_loss value: 0.4854160249233246.\n",
      "Saving model state at <_io.BufferedWriter name='C:\\\\Users\\\\iamab\\\\Downloads\\\\datasets\\\\coco\\\\wandb\\\\run-20200924_113024-r6socbfq\\\\files\\\\bestmodel.pth'>\n",
      "Loading model state from <_io.BufferedReader name='C:\\\\Users\\\\iamab\\\\Downloads\\\\datasets\\\\coco\\\\wandb\\\\run-20200924_113024-r6socbfq\\\\files\\\\bestmodel.pth'>\n",
      "Loaded best saved model from C:\\Users\\iamab\\Downloads\\datasets\\coco\\wandb\\run-20200924_113024-r6socbfq\\files\\bestmodel.pth\n"
     ]
    }
   ],
   "source": [
    "learn.fit(20, sched_callbacks([0.001,0.001,0.01], fracs = 0.2))"
   ]
  },
  {
   "cell_type": "code",
   "execution_count": 27,
   "metadata": {},
   "outputs": [],
   "source": [
    "learn.model = learn.model.cuda()"
   ]
  },
  {
   "cell_type": "code",
   "execution_count": 51,
   "metadata": {},
   "outputs": [],
   "source": [
    "(im,cap),captions = next(iter(data.valid_dl))"
   ]
  },
  {
   "cell_type": "code",
   "execution_count": 29,
   "metadata": {},
   "outputs": [
    {
     "data": {
      "text/plain": [
       "torch.Size([16, 49])"
      ]
     },
     "execution_count": 29,
     "metadata": {},
     "output_type": "execute_result"
    }
   ],
   "source": [
    "cap.shape"
   ]
  },
  {
   "cell_type": "code",
   "execution_count": 52,
   "metadata": {},
   "outputs": [],
   "source": [
    "out = learn.model((im.cuda(),cap.cuda()))"
   ]
  },
  {
   "cell_type": "code",
   "execution_count": 35,
   "metadata": {},
   "outputs": [
    {
     "data": {
      "text/plain": [
       "tensor(146.5599, device='cuda:0', grad_fn=<AddBackward0>)"
      ]
     },
     "execution_count": 35,
     "metadata": {},
     "output_type": "execute_result"
    }
   ],
   "source": [
    "sum(out[0][0])"
   ]
  },
  {
   "cell_type": "code",
   "execution_count": 53,
   "metadata": {},
   "outputs": [],
   "source": [
    "tok = learn.data.valid_ds.py.tokenizer"
   ]
  },
  {
   "cell_type": "code",
   "execution_count": 58,
   "metadata": {},
   "outputs": [
    {
     "data": {
      "text/plain": [
       "'A person on skis going down a hill on a slope. rider.People... boardPeople.People.PeoplePeople.PeoplePeoplePeoplePeoplePeoplePeoplePeoplePeople'"
      ]
     },
     "execution_count": 58,
     "metadata": {},
     "output_type": "execute_result"
    }
   ],
   "source": [
    "tok.decode(torch.argmax(out[2], dim = -1), skip_special_tokens=True)"
   ]
  },
  {
   "cell_type": "code",
   "execution_count": 68,
   "metadata": {},
   "outputs": [
    {
     "data": {
      "text/plain": [
       "'A person on skis going down a hill on a slope. <EOS> <PAD> <PAD> <PAD> <PAD> <PAD> <PAD> <PAD> <PAD> <PAD> <PAD> <PAD> <PAD> <PAD> <PAD> <PAD> <PAD> <PAD> <PAD> <PAD> <PAD> <PAD> <PAD> <PAD> <PAD> <PAD> <PAD> <PAD> <PAD> <PAD> <PAD> <PAD> <PAD> <PAD> <PAD> <PAD>'"
      ]
     },
     "execution_count": 68,
     "metadata": {},
     "output_type": "execute_result"
    }
   ],
   "source": [
    "tok.decode(captions[2])"
   ]
  },
  {
   "cell_type": "code",
   "execution_count": 66,
   "metadata": {},
   "outputs": [
    {
     "data": {
      "text/plain": [
       "tensor([   32,  1048,   319,  1341,   271,  1016,   866,   257, 12788,   319,\n",
       "          257, 22638,    13, 50258, 50258, 50258, 50258, 50258, 50258, 17876,\n",
       "        50258, 50258, 50258,    13, 50258, 50258, 50258,  8061,    13,    13,\n",
       "           13,  3096, 50258,  8061,    13,  8061,    13,  8061,  8061,    13,\n",
       "         8061,  8061,  8061,  8061,  8061, 50258,  8061,  8061,  8061],\n",
       "       device='cuda:0')"
      ]
     },
     "execution_count": 66,
     "metadata": {},
     "output_type": "execute_result"
    }
   ],
   "source": [
    "torch.argmax(out[2], dim = -1)"
   ]
  },
  {
   "cell_type": "code",
   "execution_count": 59,
   "metadata": {},
   "outputs": [
    {
     "data": {
      "text/plain": [
       "(-0.5, 223.5, 223.5, -0.5)"
      ]
     },
     "execution_count": 59,
     "metadata": {},
     "output_type": "execute_result"
    },
    {
     "data": {
      "image/png": "[encoded data removed]",
      "text/plain": [
       "<Figure size 432x288 with 1 Axes>"
      ]
     },
     "metadata": {
      "needs_background": "light"
     },
     "output_type": "display_data"
    }
   ],
   "source": [
    "plt.imshow(im[2].permute(1,2,0))\n",
    "plt.axis('off')"
   ]
  },
  {
   "cell_type": "code",
   "execution_count": 64,
   "metadata": {},
   "outputs": [],
   "source": [
    "def show_pandc(im,out,tok,index):\n",
    "    print(tok.decode(torch.argmax(out[index], dim = -1), skip_special_tokens=True))\n",
    "    plt.imshow(im[index].permute(1,2,0))\n",
    "    plt.axis('off')"
   ]
  },
  {
   "cell_type": "code",
   "execution_count": 76,
   "metadata": {},
   "outputs": [
    {
     "name": "stdout",
     "output_type": "stream",
     "text": [
      "A small surfer is flying a small ocean.\n"
     ]
    },
    {
     "data": {
      "image/png": "[encoded data removed]",
      "text/plain": [
       "<Figure size 432x288 with 1 Axes>"
      ]
     },
     "metadata": {
      "needs_background": "light"
     },
     "output_type": "display_data"
    }
   ],
   "source": [
    "show_pandc(im,out,tok,1)"
   ]
  },
  {
   "cell_type": "code",
   "execution_count": 45,
   "metadata": {},
   "outputs": [],
   "source": [
    "def predict(learn,image, max_len = 49):\n",
    "    im = compose(image, learn.data.valid_ds.x.tfs)\n",
    "    im = im[None]\n",
    "    im = normalise(im, mean = imagenet_mean, std= imagenet_std)\n",
    "    tok = learn.data.valid_ds.py.tokenizer\n",
    "    ls = [tok.bos_token_id]\n",
    "    i = 1\n",
    "    pred = None\n",
    "    while pred != tok.encode('.')[0] and i <= 49:\n",
    "        cap = tensor(ls + [tok.pad_token_id]*(max_len-i))\n",
    "        cap = cap[None]\n",
    "        out = learn.model((im.cuda(), cap.cuda()))\n",
    "        pred = F.softmax(torch.squeeze(out)[i-1],dim = 0)\n",
    "        pred = pred.argmax()\n",
    "        ls = ls + [int(pred)]\n",
    "        i += 1\n",
    "    return tok.decode(ls)\n",
    "    \n",
    "                      \n",
    "    "
   ]
  },
  {
   "cell_type": "code",
   "execution_count": 77,
   "metadata": {},
   "outputs": [],
   "source": [
    "normalise??"
   ]
  },
  {
   "cell_type": "code",
   "execution_count": 118,
   "metadata": {},
   "outputs": [],
   "source": [
    "learn = extend_model(learn, name = 'run-20200924_113024-r6socbfq', extend = False)"
   ]
  },
  {
   "cell_type": "code",
   "execution_count": 46,
   "metadata": {},
   "outputs": [],
   "source": [
    "im = PIL.Image.open('C:/Users/iamab/Downloads/datasets/coco/plane.jpg')"
   ]
  },
  {
   "cell_type": "code",
   "execution_count": 47,
   "metadata": {},
   "outputs": [
    {
     "data": {
      "text/plain": [
       "'<BOS> H largeT <EOS> <EOS> <EOS> <EOS> <EOS> <EOS> <EOS> <EOS> <EOS> <EOS> <EOS> <EOS> <EOS> <EOS> <EOS> <EOS> <EOS> <EOS> <EOS> <EOS> <EOS> <EOS> <EOS> <EOS> <EOS> <EOS> <EOS> <EOS> <EOS> <EOS> <EOS> <EOS> <EOS> <EOS> <EOS> <EOS> <EOS> <EOS> <EOS> <EOS> <EOS> <EOS> <EOS> <EOS> <EOS> <EOS>'"
      ]
     },
     "execution_count": 47,
     "metadata": {},
     "output_type": "execute_result"
    }
   ],
   "source": [
    "predict(learn,im)"
   ]
  },
  {
   "cell_type": "code",
   "execution_count": 85,
   "metadata": {},
   "outputs": [],
   "source": [
    "im = compose(im,learn.data.valid_ds.x.tfs)"
   ]
  },
  {
   "cell_type": "code",
   "execution_count": 76,
   "metadata": {},
   "outputs": [
    {
     "data": {
      "text/plain": [
       "torch.Size([3, 224, 224])"
      ]
     },
     "execution_count": 76,
     "metadata": {},
     "output_type": "execute_result"
    }
   ],
   "source": [
    "im.shape"
   ]
  },
  {
   "cell_type": "code",
   "execution_count": 67,
   "metadata": {},
   "outputs": [
    {
     "data": {
      "text/plain": [
       "[None]"
      ]
     },
     "execution_count": 67,
     "metadata": {},
     "output_type": "execute_result"
    }
   ],
   "source": [
    "[]+ [None]"
   ]
  },
  {
   "cell_type": "code",
   "execution_count": 87,
   "metadata": {},
   "outputs": [
    {
     "data": {
      "text/plain": [
       "torch.Size([1, 3, 224, 224])"
      ]
     },
     "execution_count": 87,
     "metadata": {},
     "output_type": "execute_result"
    }
   ],
   "source": [
    "im[None].shape"
   ]
  },
  {
   "cell_type": "code",
   "execution_count": 50,
   "metadata": {},
   "outputs": [
    {
     "data": {
      "text/plain": [
       "[13]"
      ]
     },
     "execution_count": 50,
     "metadata": {},
     "output_type": "execute_result"
    }
   ],
   "source": [
    "tok.encode('.')"
   ]
  },
  {
   "cell_type": "code",
   "execution_count": 63,
   "metadata": {},
   "outputs": [
    {
     "data": {
      "text/plain": [
       "[50259, 23]"
      ]
     },
     "execution_count": 63,
     "metadata": {},
     "output_type": "execute_result"
    }
   ],
   "source": [
    "[50259] + [23]"
   ]
  },
  {
   "cell_type": "code",
   "execution_count": 72,
   "metadata": {},
   "outputs": [
    {
     "data": {
      "text/plain": [
       "tensor([1, 0, 2])"
      ]
     },
     "execution_count": 72,
     "metadata": {},
     "output_type": "execute_result"
    }
   ],
   "source": [
    "torch.sort(tensor([2,1,3,4,5]))[1][:3]"
   ]
  },
  {
   "cell_type": "code",
   "execution_count": null,
   "metadata": {},
   "outputs": [],
   "source": [
    "def beam_search(learn, image, bead_width = 3,max_len = 49):\n",
    "    tok = learn.data.valid_ds.py.tokenizer\n",
    "    ls = [tok.bos_token_id]\n",
    "    im = compose(image, learn.data.valid_ds.x.tfs)\n",
    "    im = im[None]\n",
    "    im = normalise(im, mean = imagenet_mean, std= imagenet_std)\n",
    "    cap = tensor(ls + [tok.pad_token_id]*(max_len-len(ls)))\n",
    "    out = learn.model(im.cuda(), cap.cuda())\n",
    "    pred = F.softmax(torch.squeeze(out)[i-1],dim = 0)\n",
    "    choices = torch.sort(pred)[1][:beam_width]\n",
    "    dic = {}\n",
    "    for i in len(choices):\n",
    "        dic[f'sent_{i}'] = tensor(ls + choices[i])\n",
    "    for i in choices:\n",
    "        \n",
    "        \n",
    "    \n",
    "    "
   ]
  },
  {
   "cell_type": "code",
   "execution_count": null,
   "metadata": {},
   "outputs": [],
   "source": [
    "class Beam_Search():\n",
    "    def __init__(self, learner, beam_width = 3, max_len = 49):\n",
    "        self.bw = beam_width\n",
    "        self.max_len = max_len\n",
    "        self.learn = learner\n",
    "        \n",
    "        self.tok = self.learn.data.valid_ds.py.tokenizer\n",
    "        bti = self.tok.bos_token_id\n",
    "        pti = self.tok.pad_token_id\n",
    "        \n",
    "    def search(image):\n",
    "        image = self.preprocess_image(image)\n",
    "        ls = [bti]\n",
    "        \n",
    "        \n",
    "    def __call__(self, image, ls):\n",
    "#         tok = learn.data.valid_ds.py.tokenizer\n",
    "#         ls = [tok.bos_token_id]\n",
    "        for i in ls:\n",
    "            cap = tensor([i] + [pti]*(self.max_len-len(ls)))\n",
    "            out = self.learn.model(im.cuda(), cap.cuda())\n",
    "            pred = F.softmax(torch.squeeze(out)[len(ls) - 1],dim = 0)\n",
    "            choices = torch.sort(pred)[1][:beam_width]\n",
    "            dic = {}\n",
    "            for i in len(choices):\n",
    "                dic[f'sent_{i}'] = tensor(ls + choices[i])\n",
    "            return dic\n",
    "            \n",
    "    \n",
    "    def preprocess_image(self,image):\n",
    "        im = compose(image, self.learn.data.valid_ds.x.tfs)\n",
    "        im = im[None]\n",
    "        im = normalise(im, mean = imagenet_mean, std= imagenet_std)\n",
    "        return im\n",
    "        \n",
    "    "
   ]
  }
 ],
 "metadata": {
  "kernelspec": {
   "display_name": "Python 3",
   "language": "python",
   "name": "python3"
  },
  "language_info": {
   "codemirror_mode": {
    "name": "ipython",
    "version": 3
   },
   "file_extension": ".py",
   "mimetype": "text/x-python",
   "name": "python",
   "nbconvert_exporter": "python",
   "pygments_lexer": "ipython3",
   "version": "3.8.3"
  }
 },
 "nbformat": 4,
 "nbformat_minor": 4
}
