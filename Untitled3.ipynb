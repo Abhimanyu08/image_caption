{
 "cells": [
  {
   "cell_type": "code",
   "execution_count": 1,
   "metadata": {},
   "outputs": [],
   "source": [
    "from torch import nn\n",
    "from pathlib import Path"
   ]
  },
  {
   "cell_type": "code",
   "execution_count": 2,
   "metadata": {},
   "outputs": [],
   "source": [
    "model = nn.Sequential(nn.Linear(784,50),nn.ReLU(), nn.Linear(50,10))"
   ]
  },
  {
   "cell_type": "code",
   "execution_count": 4,
   "metadata": {},
   "outputs": [
    {
     "data": {
      "text/plain": [
       "OrderedDict([('0.weight',\n",
       "              tensor([[ 0.0102,  0.0087, -0.0131,  ..., -0.0146, -0.0245, -0.0016],\n",
       "                      [ 0.0052,  0.0326,  0.0063,  ...,  0.0267, -0.0131,  0.0274],\n",
       "                      [-0.0132,  0.0335,  0.0109,  ..., -0.0118, -0.0073,  0.0077],\n",
       "                      ...,\n",
       "                      [-0.0333,  0.0050, -0.0214,  ...,  0.0256, -0.0152,  0.0093],\n",
       "                      [-0.0275, -0.0250,  0.0022,  ...,  0.0177, -0.0183, -0.0141],\n",
       "                      [ 0.0002, -0.0287,  0.0027,  ..., -0.0206,  0.0318,  0.0115]])),\n",
       "             ('0.bias',\n",
       "              tensor([-0.0105,  0.0003,  0.0135, -0.0162,  0.0020,  0.0232,  0.0110, -0.0284,\n",
       "                       0.0201,  0.0077,  0.0143, -0.0218,  0.0021,  0.0344,  0.0233,  0.0320,\n",
       "                       0.0284,  0.0049, -0.0212,  0.0009, -0.0035,  0.0328,  0.0351, -0.0158,\n",
       "                       0.0126,  0.0052, -0.0038, -0.0229, -0.0306,  0.0343, -0.0093, -0.0301,\n",
       "                      -0.0271, -0.0070, -0.0215, -0.0073,  0.0160, -0.0147, -0.0220,  0.0190,\n",
       "                      -0.0173, -0.0268,  0.0327, -0.0218, -0.0212, -0.0111,  0.0204,  0.0280,\n",
       "                      -0.0189,  0.0266])),\n",
       "             ('2.weight',\n",
       "              tensor([[ 2.2814e-02, -8.6254e-03,  2.4676e-03,  8.6636e-02,  1.5311e-02,\n",
       "                        8.1588e-02,  1.0631e-01, -1.2277e-01,  8.3806e-02, -4.4930e-02,\n",
       "                        2.5081e-02,  9.8335e-02,  8.2751e-02, -1.3032e-01,  1.3596e-01,\n",
       "                        4.4457e-02,  1.1739e-01, -1.1437e-01, -1.4089e-01, -4.5440e-02,\n",
       "                        1.1793e-01,  3.5424e-02,  1.2676e-01, -1.3646e-01, -3.1266e-02,\n",
       "                        8.5341e-02,  8.4448e-02, -6.8653e-02, -3.5733e-02, -8.4377e-02,\n",
       "                        1.0189e-01, -8.8555e-02, -4.6340e-02,  7.4338e-02,  1.1139e-01,\n",
       "                       -7.8844e-02,  5.8776e-02,  7.0627e-02,  1.1359e-04,  1.1977e-01,\n",
       "                       -1.3091e-01, -1.0622e-01,  5.1081e-02, -2.4403e-02, -8.8294e-02,\n",
       "                        2.6064e-02,  1.0165e-01, -6.7584e-02, -8.8033e-02, -5.0957e-02],\n",
       "                      [-1.1185e-01,  5.0983e-02,  5.9898e-02,  1.0795e-01, -1.2107e-01,\n",
       "                       -4.0448e-02,  1.0182e-01,  1.2780e-01,  2.7100e-03,  4.4686e-02,\n",
       "                       -9.1183e-02, -3.4878e-02,  9.1934e-02,  1.2338e-01, -1.0641e-01,\n",
       "                       -7.7948e-02, -8.2720e-02, -9.0840e-02, -7.2195e-02, -3.2840e-02,\n",
       "                       -6.5006e-02, -1.2330e-01,  7.0094e-02, -6.2977e-02,  8.3615e-03,\n",
       "                        1.3215e-01,  9.3229e-02,  4.9855e-02, -7.9857e-02, -9.9241e-03,\n",
       "                       -3.1307e-03, -3.9207e-02, -3.7135e-02,  2.7138e-02, -7.0628e-02,\n",
       "                       -1.0487e-01,  2.0958e-02,  7.9122e-02, -7.8964e-02,  8.9005e-02,\n",
       "                        1.0182e-02, -1.0748e-01, -7.7171e-02, -7.9423e-02, -1.2326e-01,\n",
       "                        2.2714e-03, -1.5977e-02,  1.5151e-02,  6.5582e-02,  9.9650e-04],\n",
       "                      [-8.9499e-03, -1.0854e-02, -7.0064e-02, -1.3427e-01,  1.3164e-01,\n",
       "                        4.9534e-02, -1.6022e-02, -8.1181e-02,  1.2869e-01,  1.3804e-01,\n",
       "                       -1.1719e-01,  1.1765e-01, -9.8581e-02, -6.1983e-02,  7.7909e-02,\n",
       "                       -5.3594e-02,  1.2100e-02,  1.2954e-01, -1.4433e-02, -4.2024e-03,\n",
       "                        8.7655e-02, -1.2724e-01, -6.5284e-02,  1.1225e-01, -1.1528e-01,\n",
       "                        9.4368e-02,  8.4185e-02, -2.6874e-02,  6.6779e-02, -1.3156e-01,\n",
       "                        5.9975e-02, -9.0443e-03,  4.8024e-02,  1.3398e-01,  9.3554e-02,\n",
       "                        8.0535e-02,  1.1536e-01,  4.0796e-02, -1.0445e-01,  3.8691e-02,\n",
       "                        1.9564e-02,  8.6785e-02,  1.3125e-01, -1.4126e-02, -1.0623e-02,\n",
       "                       -4.4803e-02,  1.2588e-01, -9.4476e-02,  8.0661e-02, -7.1654e-02],\n",
       "                      [-5.8952e-02,  9.5624e-02,  1.0402e-01,  1.1897e-01, -2.8968e-02,\n",
       "                        1.3786e-01, -8.6313e-02,  7.0336e-02,  8.9687e-03,  1.7532e-02,\n",
       "                        1.3648e-01,  1.1784e-01,  1.0601e-01,  1.2102e-02,  2.2237e-02,\n",
       "                        2.0461e-02, -1.1179e-01,  1.1450e-01, -9.3828e-02, -1.3624e-01,\n",
       "                        7.3447e-02, -1.0657e-01, -4.7296e-02, -2.6739e-02,  6.8989e-02,\n",
       "                        1.3429e-01, -3.8295e-02,  8.3836e-02,  1.1976e-01,  8.8784e-02,\n",
       "                        1.7050e-02, -6.1825e-02,  1.0435e-01, -5.2959e-05,  2.9701e-02,\n",
       "                        4.8509e-02,  1.2126e-01,  1.0630e-01,  1.2127e-01, -1.1705e-01,\n",
       "                        1.0492e-01,  3.7321e-02,  3.5400e-02, -5.2529e-02,  1.8693e-02,\n",
       "                        9.2759e-02, -3.4578e-02, -3.9353e-02, -8.8576e-02,  5.7339e-02],\n",
       "                      [-5.9125e-02,  1.0846e-03,  7.2890e-02, -8.0113e-02, -4.8855e-02,\n",
       "                       -7.4712e-02,  1.0373e-01, -9.0082e-03,  8.7530e-02, -1.9509e-03,\n",
       "                        1.4111e-01,  1.3680e-01, -6.5095e-03,  5.7594e-02, -8.8602e-05,\n",
       "                        1.1228e-01, -6.5666e-02, -7.4121e-02, -9.9012e-02,  9.6918e-02,\n",
       "                        9.6886e-02, -6.9651e-02, -4.0192e-03, -4.9064e-02,  1.1310e-03,\n",
       "                        8.4639e-02, -1.7894e-03, -1.3827e-01,  1.0901e-01,  1.6985e-03,\n",
       "                       -4.9121e-02, -3.2121e-02, -4.0307e-02, -1.2765e-02,  1.0959e-01,\n",
       "                       -1.2840e-01, -5.6806e-03, -2.8919e-02,  1.0553e-01, -7.6746e-02,\n",
       "                        1.1066e-01,  6.1014e-02, -1.3921e-01,  6.2726e-02,  7.6475e-02,\n",
       "                        1.0098e-01,  9.7300e-02,  1.3754e-02, -7.6300e-02,  1.0511e-01],\n",
       "                      [ 1.1996e-01,  1.8252e-02, -3.7435e-02,  7.0108e-02,  4.4308e-02,\n",
       "                       -1.2606e-01,  9.7128e-02, -7.7047e-02, -5.2822e-02, -9.7283e-02,\n",
       "                       -1.2914e-01, -6.7595e-02, -6.4855e-02,  9.4956e-02, -1.2139e-01,\n",
       "                        1.0465e-01,  1.0802e-01,  4.3804e-02,  1.2825e-01,  5.5147e-02,\n",
       "                        1.3214e-01,  5.9861e-02, -1.1151e-01, -1.4175e-02, -8.2794e-02,\n",
       "                        8.3741e-02,  1.1873e-01, -6.7367e-02, -6.9560e-02,  2.3758e-02,\n",
       "                        1.1460e-01,  1.0894e-01,  2.6609e-02, -1.0610e-01,  7.6148e-02,\n",
       "                       -5.2991e-03,  8.5626e-02, -5.2012e-02,  1.3883e-01, -9.4693e-02,\n",
       "                       -9.4818e-02, -9.7484e-02,  5.9731e-03,  1.2958e-03,  2.8838e-02,\n",
       "                        7.0700e-02, -1.7767e-02, -1.3972e-01, -4.8832e-02, -3.9987e-02],\n",
       "                      [-8.5700e-02,  1.1571e-01,  9.2699e-02,  1.0549e-01, -1.1190e-01,\n",
       "                        2.4453e-02,  1.1635e-01,  1.5567e-02, -4.7944e-02, -6.9754e-02,\n",
       "                        4.9306e-02, -4.6717e-02, -3.5741e-02,  8.7659e-02,  2.5218e-02,\n",
       "                        1.2617e-01,  5.8649e-02,  6.4469e-02,  8.6679e-02, -9.5146e-02,\n",
       "                        5.0223e-02, -1.1312e-02, -1.2907e-01,  1.4751e-02, -1.1581e-01,\n",
       "                       -1.2191e-01, -1.3921e-01, -1.0170e-01,  1.2646e-01,  1.1081e-01,\n",
       "                       -9.1432e-02,  1.3195e-01,  2.1822e-02, -5.1743e-03,  3.7505e-02,\n",
       "                        7.2222e-02, -3.1845e-02,  1.3948e-01, -3.4018e-03, -1.4124e-01,\n",
       "                       -4.9029e-02, -7.5398e-02, -2.2660e-02, -8.6012e-02, -1.1346e-01,\n",
       "                        1.9268e-02, -4.4655e-02, -1.2999e-01, -1.1479e-01,  1.0482e-01],\n",
       "                      [ 1.2740e-01,  8.6763e-02,  7.0933e-02,  9.7176e-04, -4.3882e-02,\n",
       "                       -1.1914e-01, -3.9209e-02, -4.3751e-02,  1.6466e-03, -1.2147e-01,\n",
       "                       -9.8220e-02,  5.4696e-02,  9.3141e-02, -1.2703e-01, -7.9781e-02,\n",
       "                        9.2293e-02, -7.0002e-02,  4.3098e-02, -1.1647e-02,  1.0598e-01,\n",
       "                        5.8200e-03,  9.4957e-02, -1.1706e-01, -1.0256e-01, -6.3224e-02,\n",
       "                       -3.5598e-02,  8.0961e-02,  1.5876e-02, -4.7672e-02, -2.4602e-02,\n",
       "                       -1.0122e-01,  9.1097e-02,  3.9592e-02,  2.2150e-02,  2.9983e-02,\n",
       "                        1.3475e-01,  1.3367e-01, -5.0127e-02,  8.5605e-02,  9.0657e-02,\n",
       "                       -5.2007e-02,  9.0152e-02,  3.0238e-02,  4.9933e-02, -1.1628e-01,\n",
       "                        1.0975e-02, -1.3306e-01,  1.9144e-02,  3.9402e-02, -2.9589e-02],\n",
       "                      [-5.9121e-02, -4.0317e-02, -1.1292e-01, -3.2278e-02, -7.6278e-02,\n",
       "                        1.0917e-01, -1.0539e-01,  4.5990e-02,  3.3386e-02, -1.0096e-01,\n",
       "                        6.7648e-02, -5.9751e-02, -9.2299e-02,  1.2380e-01, -1.3443e-01,\n",
       "                       -1.0679e-01, -5.6763e-02,  4.5019e-02, -3.1216e-02,  8.0424e-02,\n",
       "                        6.4696e-02, -1.1706e-01, -1.3901e-01, -9.6352e-02,  6.5096e-02,\n",
       "                       -1.0910e-01,  5.3367e-02, -7.0293e-02,  7.4495e-02, -6.3375e-02,\n",
       "                        4.6867e-02, -5.2789e-03, -3.5453e-02,  1.1696e-02,  1.3766e-01,\n",
       "                        7.9014e-02,  1.0726e-01,  9.7298e-02, -1.1525e-01, -8.3141e-02,\n",
       "                       -8.4372e-02,  2.7208e-02,  1.0943e-01, -7.9388e-02,  7.0227e-02,\n",
       "                       -7.3593e-02, -1.3504e-01,  3.3440e-02,  1.3612e-01, -7.6600e-02],\n",
       "                      [ 5.1791e-02,  6.1713e-02,  9.5509e-02,  5.6757e-02,  6.5782e-02,\n",
       "                        1.2822e-01,  7.2642e-02,  3.6410e-02, -1.4081e-01, -1.0663e-02,\n",
       "                       -5.2361e-02, -1.2406e-01, -3.6372e-03,  1.1241e-01, -4.1697e-02,\n",
       "                        1.5607e-02,  6.9682e-03,  1.3649e-02,  9.6478e-02,  1.3212e-02,\n",
       "                        6.8267e-02, -1.3913e-01, -7.1962e-02, -1.2192e-01, -9.8227e-02,\n",
       "                        7.0149e-02, -5.9330e-02, -8.2511e-02,  5.0340e-02, -4.5960e-02,\n",
       "                       -6.9436e-02, -1.3705e-01, -1.0519e-01, -8.0600e-02, -1.0619e-01,\n",
       "                        1.2177e-01,  7.3728e-03,  8.6126e-02, -2.9373e-02, -2.3548e-02,\n",
       "                       -6.9548e-02, -6.0359e-02, -6.8278e-03,  2.9234e-02, -1.2295e-01,\n",
       "                        1.2379e-02, -5.0198e-02,  3.4568e-02,  2.2583e-02, -2.8140e-02]])),\n",
       "             ('2.bias',\n",
       "              tensor([ 0.0282, -0.0735,  0.0987, -0.1206, -0.1021,  0.0551,  0.0177, -0.0402,\n",
       "                       0.0451, -0.1089]))])"
      ]
     },
     "execution_count": 4,
     "metadata": {},
     "output_type": "execute_result"
    }
   ],
   "source": [
    "model.state_dict()"
   ]
  },
  {
   "cell_type": "code",
   "execution_count": null,
   "metadata": {},
   "outputs": [],
   "source": []
  },
  {
   "cell_type": "code",
   "execution_count": 1,
   "metadata": {},
   "outputs": [],
   "source": [
    "ls = [1,2,3,4]\n",
    "l = ['a', 'b']"
   ]
  },
  {
   "cell_type": "code",
   "execution_count": 3,
   "metadata": {},
   "outputs": [
    {
     "name": "stdout",
     "output_type": "stream",
     "text": [
      "[(1, 'a'), (2, 'b')]\n"
     ]
    }
   ],
   "source": [
    "print(list(zip(ls,l)))"
   ]
  },
  {
   "cell_type": "code",
   "execution_count": 2,
   "metadata": {},
   "outputs": [],
   "source": [
    "import torch\n",
    "from torch import tensor"
   ]
  },
  {
   "cell_type": "code",
   "execution_count": 3,
   "metadata": {},
   "outputs": [],
   "source": [
    "# size is (batch_size, no_of_words_in_a_sentence)\n",
    "mat = torch.tensor([[2,3,4,5,1,1],[7,6,1,1,1,1],[7,4,2,5,9,1],[2,3,4,5,6,7]])"
   ]
  },
  {
   "cell_type": "code",
   "execution_count": 4,
   "metadata": {},
   "outputs": [
    {
     "data": {
      "text/plain": [
       "tensor([[2, 3, 4, 5, 1, 1],\n",
       "        [7, 6, 1, 1, 1, 1],\n",
       "        [7, 4, 2, 5, 9, 1],\n",
       "        [2, 3, 4, 5, 6, 7]], device='cuda:0')"
      ]
     },
     "execution_count": 4,
     "metadata": {},
     "output_type": "execute_result"
    }
   ],
   "source": [
    "mat.cuda()"
   ]
  },
  {
   "cell_type": "code",
   "execution_count": 27,
   "metadata": {},
   "outputs": [],
   "source": [
    "mask = (mat == 1).unsqueeze(1)"
   ]
  },
  {
   "cell_type": "code",
   "execution_count": 30,
   "metadata": {},
   "outputs": [],
   "source": [
    "mask = mask.expand(4,6,6)"
   ]
  },
  {
   "cell_type": "code",
   "execution_count": 31,
   "metadata": {},
   "outputs": [
    {
     "data": {
      "text/plain": [
       "tensor([[[False, False, False, False,  True,  True],\n",
       "         [False, False, False, False,  True,  True],\n",
       "         [False, False, False, False,  True,  True],\n",
       "         [False, False, False, False,  True,  True],\n",
       "         [False, False, False, False,  True,  True],\n",
       "         [False, False, False, False,  True,  True]],\n",
       "\n",
       "        [[False, False,  True,  True,  True,  True],\n",
       "         [False, False,  True,  True,  True,  True],\n",
       "         [False, False,  True,  True,  True,  True],\n",
       "         [False, False,  True,  True,  True,  True],\n",
       "         [False, False,  True,  True,  True,  True],\n",
       "         [False, False,  True,  True,  True,  True]],\n",
       "\n",
       "        [[False, False, False, False, False,  True],\n",
       "         [False, False, False, False, False,  True],\n",
       "         [False, False, False, False, False,  True],\n",
       "         [False, False, False, False, False,  True],\n",
       "         [False, False, False, False, False,  True],\n",
       "         [False, False, False, False, False,  True]],\n",
       "\n",
       "        [[False, False, False, False, False, False],\n",
       "         [False, False, False, False, False, False],\n",
       "         [False, False, False, False, False, False],\n",
       "         [False, False, False, False, False, False],\n",
       "         [False, False, False, False, False, False],\n",
       "         [False, False, False, False, False, False]]])"
      ]
     },
     "execution_count": 31,
     "metadata": {},
     "output_type": "execute_result"
    }
   ],
   "source": [
    "mask"
   ]
  },
  {
   "cell_type": "code",
   "execution_count": 27,
   "metadata": {},
   "outputs": [],
   "source": [
    "p = Path('C:/Users/iamab/Downloads/datasets/coco')"
   ]
  },
  {
   "cell_type": "code",
   "execution_count": 28,
   "metadata": {},
   "outputs": [],
   "source": [
    "Path.ls = lambda x: list(x.iterdir())"
   ]
  },
  {
   "cell_type": "code",
   "execution_count": 29,
   "metadata": {},
   "outputs": [
    {
     "data": {
      "text/plain": [
       "[WindowsPath('C:/Users/iamab/Downloads/datasets/coco/annotations_trainval2014'),\n",
       " WindowsPath('C:/Users/iamab/Downloads/datasets/coco/train2014.zip'),\n",
       " WindowsPath('C:/Users/iamab/Downloads/datasets/coco/val2014.zip')]"
      ]
     },
     "execution_count": 29,
     "metadata": {},
     "output_type": "execute_result"
    }
   ],
   "source": [
    "p.ls()"
   ]
  },
  {
   "cell_type": "code",
   "execution_count": 32,
   "metadata": {},
   "outputs": [],
   "source": [
    "import json\n",
    "import PIL"
   ]
  },
  {
   "cell_type": "code",
   "execution_count": 35,
   "metadata": {},
   "outputs": [],
   "source": [
    "file = (p/'train2014.zip')"
   ]
  },
  {
   "cell_type": "code",
   "execution_count": 36,
   "metadata": {},
   "outputs": [
    {
     "ename": "NotADirectoryError",
     "evalue": "[WinError 267] The directory name is invalid: 'C:\\\\Users\\\\iamab\\\\Downloads\\\\datasets\\\\coco\\\\train2014.zip'",
     "output_type": "error",
     "traceback": [
      "\u001b[1;31m---------------------------------------------------------------------------\u001b[0m",
      "\u001b[1;31mNotADirectoryError\u001b[0m                        Traceback (most recent call last)",
      "\u001b[1;32m<ipython-input-36-ccde804b9bef>\u001b[0m in \u001b[0;36m<module>\u001b[1;34m\u001b[0m\n\u001b[1;32m----> 1\u001b[1;33m \u001b[0mfile\u001b[0m\u001b[1;33m.\u001b[0m\u001b[0mls\u001b[0m\u001b[1;33m(\u001b[0m\u001b[1;33m)\u001b[0m\u001b[1;33m\u001b[0m\u001b[1;33m\u001b[0m\u001b[0m\n\u001b[0m",
      "\u001b[1;32m<ipython-input-28-d801a4d13e46>\u001b[0m in \u001b[0;36m<lambda>\u001b[1;34m(x)\u001b[0m\n\u001b[1;32m----> 1\u001b[1;33m \u001b[0mPath\u001b[0m\u001b[1;33m.\u001b[0m\u001b[0mls\u001b[0m \u001b[1;33m=\u001b[0m \u001b[1;32mlambda\u001b[0m \u001b[0mx\u001b[0m\u001b[1;33m:\u001b[0m \u001b[0mlist\u001b[0m\u001b[1;33m(\u001b[0m\u001b[0mx\u001b[0m\u001b[1;33m.\u001b[0m\u001b[0miterdir\u001b[0m\u001b[1;33m(\u001b[0m\u001b[1;33m)\u001b[0m\u001b[1;33m)\u001b[0m\u001b[1;33m\u001b[0m\u001b[1;33m\u001b[0m\u001b[0m\n\u001b[0m",
      "\u001b[1;32m~\\anaconda3\\lib\\pathlib.py\u001b[0m in \u001b[0;36miterdir\u001b[1;34m(self)\u001b[0m\n\u001b[0;32m   1116\u001b[0m         \u001b[1;32mif\u001b[0m \u001b[0mself\u001b[0m\u001b[1;33m.\u001b[0m\u001b[0m_closed\u001b[0m\u001b[1;33m:\u001b[0m\u001b[1;33m\u001b[0m\u001b[1;33m\u001b[0m\u001b[0m\n\u001b[0;32m   1117\u001b[0m             \u001b[0mself\u001b[0m\u001b[1;33m.\u001b[0m\u001b[0m_raise_closed\u001b[0m\u001b[1;33m(\u001b[0m\u001b[1;33m)\u001b[0m\u001b[1;33m\u001b[0m\u001b[1;33m\u001b[0m\u001b[0m\n\u001b[1;32m-> 1118\u001b[1;33m         \u001b[1;32mfor\u001b[0m \u001b[0mname\u001b[0m \u001b[1;32min\u001b[0m \u001b[0mself\u001b[0m\u001b[1;33m.\u001b[0m\u001b[0m_accessor\u001b[0m\u001b[1;33m.\u001b[0m\u001b[0mlistdir\u001b[0m\u001b[1;33m(\u001b[0m\u001b[0mself\u001b[0m\u001b[1;33m)\u001b[0m\u001b[1;33m:\u001b[0m\u001b[1;33m\u001b[0m\u001b[1;33m\u001b[0m\u001b[0m\n\u001b[0m\u001b[0;32m   1119\u001b[0m             \u001b[1;32mif\u001b[0m \u001b[0mname\u001b[0m \u001b[1;32min\u001b[0m \u001b[1;33m{\u001b[0m\u001b[1;34m'.'\u001b[0m\u001b[1;33m,\u001b[0m \u001b[1;34m'..'\u001b[0m\u001b[1;33m}\u001b[0m\u001b[1;33m:\u001b[0m\u001b[1;33m\u001b[0m\u001b[1;33m\u001b[0m\u001b[0m\n\u001b[0;32m   1120\u001b[0m                 \u001b[1;31m# Yielding a path object for these makes little sense\u001b[0m\u001b[1;33m\u001b[0m\u001b[1;33m\u001b[0m\u001b[1;33m\u001b[0m\u001b[0m\n",
      "\u001b[1;31mNotADirectoryError\u001b[0m: [WinError 267] The directory name is invalid: 'C:\\\\Users\\\\iamab\\\\Downloads\\\\datasets\\\\coco\\\\train2014.zip'"
     ]
    }
   ],
   "source": [
    "file.ls()"
   ]
  },
  {
   "cell_type": "code",
   "execution_count": 2,
   "metadata": {},
   "outputs": [],
   "source": [
    "from transformers import GPT2Tokenizer"
   ]
  },
  {
   "cell_type": "code",
   "execution_count": 3,
   "metadata": {},
   "outputs": [],
   "source": [
    "tok = GPT2Tokenizer.from_pretrained('gpt2')"
   ]
  },
  {
   "cell_type": "code",
   "execution_count": null,
   "metadata": {},
   "outputs": [],
   "source": [
    "niswk"
   ]
  }
 ],
 "metadata": {
  "kernelspec": {
   "display_name": "Python 3",
   "language": "python",
   "name": "python3"
  },
  "language_info": {
   "codemirror_mode": {
    "name": "ipython",
    "version": 3
   },
   "file_extension": ".py",
   "mimetype": "text/x-python",
   "name": "python",
   "nbconvert_exporter": "python",
   "pygments_lexer": "ipython3",
   "version": "3.8.3"
  }
 },
 "nbformat": 4,
 "nbformat_minor": 4
}
